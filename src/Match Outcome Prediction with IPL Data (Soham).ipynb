{
 "cells": [
  {
   "cell_type": "markdown",
   "metadata": {},
   "source": [
    "# Predicting the Outcome of Cricket Matches"
   ]
  },
  {
   "cell_type": "markdown",
   "metadata": {},
   "source": [
    "## Introduction\n",
    "\n",
    "In this project, we shall build a model which predicts the outcome of cricket matches in the Indian Premier League using data about matches and deliveries.\n",
    "\n",
    "### Data Mining:\n",
    "\n",
    "  * Season : 2008 - 2015 (8 Seasons)\n",
    "  * Teams : DD, KKR, MI, RCB, KXIP, RR, CSK (7 Teams)\n",
    "  * Neglect matches that have inconsistencies such as No Result, Tie, D/L Method, etc.\n",
    "\n",
    "### Features:\n",
    "\n",
    "  * Average Batsman Rating (Strike Rate)\n",
    "  * Average Bowler Rating (Wickets per Run)\n",
    "  * Player of the Match Awards \n",
    "  * Previous Encounters - Win by runs, Win by Wickets \n",
    "  * Recent form\n",
    "  \n",
    "### Prediction Model\n",
    "\n",
    "  * Logistic Regression using sci-kit learn\n",
    "  \n",
    "  "
   ]
  },
  {
   "cell_type": "code",
   "execution_count": 5,
   "metadata": {
    "collapsed": false
   },
   "outputs": [],
   "source": [
    "%matplotlib inline \n",
    "import numpy as np # imports a fast numerical programming library\n",
    "import matplotlib.pyplot as plt #sets up plotting under plt\n",
    "import pandas as pd #lets us handle data as dataframes\n",
    "#sets up pandas table display\n",
    "pd.set_option('display.width', 500)\n",
    "pd.set_option('display.max_columns', 100)\n",
    "pd.set_option('display.notebook_repr_html', True)\n",
    "import sklearn\n",
    "from __future__ import division"
   ]
  },
  {
   "cell_type": "markdown",
   "metadata": {},
   "source": [
    "## Data Mining\n",
    "  "
   ]
  },
  {
   "cell_type": "code",
   "execution_count": 6,
   "metadata": {
    "collapsed": false
   },
   "outputs": [
    {
     "data": {
      "text/html": [
       "<div>\n",
       "<table border=\"1\" class=\"dataframe\">\n",
       "  <thead>\n",
       "    <tr style=\"text-align: right;\">\n",
       "      <th></th>\n",
       "      <th>id</th>\n",
       "      <th>season</th>\n",
       "      <th>city</th>\n",
       "      <th>date</th>\n",
       "      <th>team1</th>\n",
       "      <th>team2</th>\n",
       "      <th>toss_winner</th>\n",
       "      <th>toss_decision</th>\n",
       "      <th>result</th>\n",
       "      <th>dl_applied</th>\n",
       "      <th>winner</th>\n",
       "      <th>win_by_runs</th>\n",
       "      <th>win_by_wickets</th>\n",
       "      <th>player_of_match</th>\n",
       "      <th>venue</th>\n",
       "      <th>umpire1</th>\n",
       "      <th>umpire2</th>\n",
       "      <th>umpire3</th>\n",
       "    </tr>\n",
       "  </thead>\n",
       "  <tbody>\n",
       "    <tr>\n",
       "      <th>0</th>\n",
       "      <td>1</td>\n",
       "      <td>2008</td>\n",
       "      <td>Bangalore</td>\n",
       "      <td>2008-04-18</td>\n",
       "      <td>Kolkata Knight Riders</td>\n",
       "      <td>Royal Challengers Bangalore</td>\n",
       "      <td>Royal Challengers Bangalore</td>\n",
       "      <td>field</td>\n",
       "      <td>normal</td>\n",
       "      <td>0</td>\n",
       "      <td>Kolkata Knight Riders</td>\n",
       "      <td>140</td>\n",
       "      <td>0</td>\n",
       "      <td>BB McCullum</td>\n",
       "      <td>M Chinnaswamy Stadium</td>\n",
       "      <td>Asad Rauf</td>\n",
       "      <td>RE Koertzen</td>\n",
       "      <td>NaN</td>\n",
       "    </tr>\n",
       "    <tr>\n",
       "      <th>1</th>\n",
       "      <td>2</td>\n",
       "      <td>2008</td>\n",
       "      <td>Chandigarh</td>\n",
       "      <td>2008-04-19</td>\n",
       "      <td>Chennai Super Kings</td>\n",
       "      <td>Kings XI Punjab</td>\n",
       "      <td>Chennai Super Kings</td>\n",
       "      <td>bat</td>\n",
       "      <td>normal</td>\n",
       "      <td>0</td>\n",
       "      <td>Chennai Super Kings</td>\n",
       "      <td>33</td>\n",
       "      <td>0</td>\n",
       "      <td>MEK Hussey</td>\n",
       "      <td>Punjab Cricket Association Stadium, Mohali</td>\n",
       "      <td>MR Benson</td>\n",
       "      <td>SL Shastri</td>\n",
       "      <td>NaN</td>\n",
       "    </tr>\n",
       "    <tr>\n",
       "      <th>2</th>\n",
       "      <td>3</td>\n",
       "      <td>2008</td>\n",
       "      <td>Delhi</td>\n",
       "      <td>2008-04-19</td>\n",
       "      <td>Rajasthan Royals</td>\n",
       "      <td>Delhi Daredevils</td>\n",
       "      <td>Rajasthan Royals</td>\n",
       "      <td>bat</td>\n",
       "      <td>normal</td>\n",
       "      <td>0</td>\n",
       "      <td>Delhi Daredevils</td>\n",
       "      <td>0</td>\n",
       "      <td>9</td>\n",
       "      <td>MF Maharoof</td>\n",
       "      <td>Feroz Shah Kotla</td>\n",
       "      <td>Aleem Dar</td>\n",
       "      <td>GA Pratapkumar</td>\n",
       "      <td>NaN</td>\n",
       "    </tr>\n",
       "    <tr>\n",
       "      <th>3</th>\n",
       "      <td>4</td>\n",
       "      <td>2008</td>\n",
       "      <td>Mumbai</td>\n",
       "      <td>2008-04-20</td>\n",
       "      <td>Mumbai Indians</td>\n",
       "      <td>Royal Challengers Bangalore</td>\n",
       "      <td>Mumbai Indians</td>\n",
       "      <td>bat</td>\n",
       "      <td>normal</td>\n",
       "      <td>0</td>\n",
       "      <td>Royal Challengers Bangalore</td>\n",
       "      <td>0</td>\n",
       "      <td>5</td>\n",
       "      <td>MV Boucher</td>\n",
       "      <td>Wankhede Stadium</td>\n",
       "      <td>SJ Davis</td>\n",
       "      <td>DJ Harper</td>\n",
       "      <td>NaN</td>\n",
       "    </tr>\n",
       "    <tr>\n",
       "      <th>4</th>\n",
       "      <td>5</td>\n",
       "      <td>2008</td>\n",
       "      <td>Kolkata</td>\n",
       "      <td>2008-04-20</td>\n",
       "      <td>Deccan Chargers</td>\n",
       "      <td>Kolkata Knight Riders</td>\n",
       "      <td>Deccan Chargers</td>\n",
       "      <td>bat</td>\n",
       "      <td>normal</td>\n",
       "      <td>0</td>\n",
       "      <td>Kolkata Knight Riders</td>\n",
       "      <td>0</td>\n",
       "      <td>5</td>\n",
       "      <td>DJ Hussey</td>\n",
       "      <td>Eden Gardens</td>\n",
       "      <td>BF Bowden</td>\n",
       "      <td>K Hariharan</td>\n",
       "      <td>NaN</td>\n",
       "    </tr>\n",
       "    <tr>\n",
       "      <th>5</th>\n",
       "      <td>6</td>\n",
       "      <td>2008</td>\n",
       "      <td>Jaipur</td>\n",
       "      <td>2008-04-21</td>\n",
       "      <td>Kings XI Punjab</td>\n",
       "      <td>Rajasthan Royals</td>\n",
       "      <td>Kings XI Punjab</td>\n",
       "      <td>bat</td>\n",
       "      <td>normal</td>\n",
       "      <td>0</td>\n",
       "      <td>Rajasthan Royals</td>\n",
       "      <td>0</td>\n",
       "      <td>6</td>\n",
       "      <td>SR Watson</td>\n",
       "      <td>Sawai Mansingh Stadium</td>\n",
       "      <td>Aleem Dar</td>\n",
       "      <td>RB Tiffin</td>\n",
       "      <td>NaN</td>\n",
       "    </tr>\n",
       "    <tr>\n",
       "      <th>6</th>\n",
       "      <td>7</td>\n",
       "      <td>2008</td>\n",
       "      <td>Hyderabad</td>\n",
       "      <td>2008-04-22</td>\n",
       "      <td>Deccan Chargers</td>\n",
       "      <td>Delhi Daredevils</td>\n",
       "      <td>Deccan Chargers</td>\n",
       "      <td>bat</td>\n",
       "      <td>normal</td>\n",
       "      <td>0</td>\n",
       "      <td>Delhi Daredevils</td>\n",
       "      <td>0</td>\n",
       "      <td>9</td>\n",
       "      <td>V Sehwag</td>\n",
       "      <td>Rajiv Gandhi International Stadium, Uppal</td>\n",
       "      <td>IL Howell</td>\n",
       "      <td>AM Saheba</td>\n",
       "      <td>NaN</td>\n",
       "    </tr>\n",
       "    <tr>\n",
       "      <th>7</th>\n",
       "      <td>8</td>\n",
       "      <td>2008</td>\n",
       "      <td>Chennai</td>\n",
       "      <td>2008-04-23</td>\n",
       "      <td>Chennai Super Kings</td>\n",
       "      <td>Mumbai Indians</td>\n",
       "      <td>Mumbai Indians</td>\n",
       "      <td>field</td>\n",
       "      <td>normal</td>\n",
       "      <td>0</td>\n",
       "      <td>Chennai Super Kings</td>\n",
       "      <td>6</td>\n",
       "      <td>0</td>\n",
       "      <td>ML Hayden</td>\n",
       "      <td>MA Chidambaram Stadium, Chepauk</td>\n",
       "      <td>DJ Harper</td>\n",
       "      <td>GA Pratapkumar</td>\n",
       "      <td>NaN</td>\n",
       "    </tr>\n",
       "    <tr>\n",
       "      <th>8</th>\n",
       "      <td>9</td>\n",
       "      <td>2008</td>\n",
       "      <td>Hyderabad</td>\n",
       "      <td>2008-04-24</td>\n",
       "      <td>Deccan Chargers</td>\n",
       "      <td>Rajasthan Royals</td>\n",
       "      <td>Rajasthan Royals</td>\n",
       "      <td>field</td>\n",
       "      <td>normal</td>\n",
       "      <td>0</td>\n",
       "      <td>Rajasthan Royals</td>\n",
       "      <td>0</td>\n",
       "      <td>3</td>\n",
       "      <td>YK Pathan</td>\n",
       "      <td>Rajiv Gandhi International Stadium, Uppal</td>\n",
       "      <td>Asad Rauf</td>\n",
       "      <td>MR Benson</td>\n",
       "      <td>NaN</td>\n",
       "    </tr>\n",
       "    <tr>\n",
       "      <th>9</th>\n",
       "      <td>10</td>\n",
       "      <td>2008</td>\n",
       "      <td>Chandigarh</td>\n",
       "      <td>2008-04-25</td>\n",
       "      <td>Kings XI Punjab</td>\n",
       "      <td>Mumbai Indians</td>\n",
       "      <td>Mumbai Indians</td>\n",
       "      <td>field</td>\n",
       "      <td>normal</td>\n",
       "      <td>0</td>\n",
       "      <td>Kings XI Punjab</td>\n",
       "      <td>66</td>\n",
       "      <td>0</td>\n",
       "      <td>KC Sangakkara</td>\n",
       "      <td>Punjab Cricket Association Stadium, Mohali</td>\n",
       "      <td>Aleem Dar</td>\n",
       "      <td>AM Saheba</td>\n",
       "      <td>NaN</td>\n",
       "    </tr>\n",
       "  </tbody>\n",
       "</table>\n",
       "</div>"
      ],
      "text/plain": [
       "   id  season        city        date                  team1                        team2                  toss_winner toss_decision  result  dl_applied                       winner  win_by_runs  win_by_wickets player_of_match                                       venue    umpire1         umpire2  umpire3\n",
       "0   1    2008   Bangalore  2008-04-18  Kolkata Knight Riders  Royal Challengers Bangalore  Royal Challengers Bangalore         field  normal           0        Kolkata Knight Riders          140               0     BB McCullum                       M Chinnaswamy Stadium  Asad Rauf     RE Koertzen      NaN\n",
       "1   2    2008  Chandigarh  2008-04-19    Chennai Super Kings              Kings XI Punjab          Chennai Super Kings           bat  normal           0          Chennai Super Kings           33               0      MEK Hussey  Punjab Cricket Association Stadium, Mohali  MR Benson      SL Shastri      NaN\n",
       "2   3    2008       Delhi  2008-04-19       Rajasthan Royals             Delhi Daredevils             Rajasthan Royals           bat  normal           0             Delhi Daredevils            0               9     MF Maharoof                            Feroz Shah Kotla  Aleem Dar  GA Pratapkumar      NaN\n",
       "3   4    2008      Mumbai  2008-04-20         Mumbai Indians  Royal Challengers Bangalore               Mumbai Indians           bat  normal           0  Royal Challengers Bangalore            0               5      MV Boucher                            Wankhede Stadium   SJ Davis       DJ Harper      NaN\n",
       "4   5    2008     Kolkata  2008-04-20        Deccan Chargers        Kolkata Knight Riders              Deccan Chargers           bat  normal           0        Kolkata Knight Riders            0               5       DJ Hussey                                Eden Gardens  BF Bowden     K Hariharan      NaN\n",
       "5   6    2008      Jaipur  2008-04-21        Kings XI Punjab             Rajasthan Royals              Kings XI Punjab           bat  normal           0             Rajasthan Royals            0               6       SR Watson                      Sawai Mansingh Stadium  Aleem Dar       RB Tiffin      NaN\n",
       "6   7    2008   Hyderabad  2008-04-22        Deccan Chargers             Delhi Daredevils              Deccan Chargers           bat  normal           0             Delhi Daredevils            0               9        V Sehwag   Rajiv Gandhi International Stadium, Uppal  IL Howell       AM Saheba      NaN\n",
       "7   8    2008     Chennai  2008-04-23    Chennai Super Kings               Mumbai Indians               Mumbai Indians         field  normal           0          Chennai Super Kings            6               0       ML Hayden             MA Chidambaram Stadium, Chepauk  DJ Harper  GA Pratapkumar      NaN\n",
       "8   9    2008   Hyderabad  2008-04-24        Deccan Chargers             Rajasthan Royals             Rajasthan Royals         field  normal           0             Rajasthan Royals            0               3       YK Pathan   Rajiv Gandhi International Stadium, Uppal  Asad Rauf       MR Benson      NaN\n",
       "9  10    2008  Chandigarh  2008-04-25        Kings XI Punjab               Mumbai Indians               Mumbai Indians         field  normal           0              Kings XI Punjab           66               0   KC Sangakkara  Punjab Cricket Association Stadium, Mohali  Aleem Dar       AM Saheba      NaN"
      ]
     },
     "execution_count": 6,
     "metadata": {},
     "output_type": "execute_result"
    }
   ],
   "source": [
    "# Reading in the data\n",
    "allmatches = pd.read_csv(\"../data/matches.csv\")\n",
    "alldeliveries = pd.read_csv(\"../data/deliveries.csv\")\n",
    "allmatches.head(10)"
   ]
  },
  {
   "cell_type": "code",
   "execution_count": 7,
   "metadata": {
    "collapsed": true
   },
   "outputs": [],
   "source": [
    "# Selecting Seasons 2008 - 2015\n",
    "matches_seasons = allmatches.loc[allmatches['season'] != 2016]\n",
    "deliveries_seasons = alldeliveries.loc[alldeliveries['match_id'] < 518]"
   ]
  },
  {
   "cell_type": "code",
   "execution_count": 8,
   "metadata": {
    "collapsed": false
   },
   "outputs": [
    {
     "data": {
      "text/plain": [
       "array(['Kolkata Knight Riders', 'Chennai Super Kings', 'Rajasthan Royals',\n",
       "       'Mumbai Indians', 'Kings XI Punjab', 'Royal Challengers Bangalore',\n",
       "       'Delhi Daredevils'], dtype=object)"
      ]
     },
     "execution_count": 8,
     "metadata": {},
     "output_type": "execute_result"
    }
   ],
   "source": [
    "# Selecting teams DD, KKR, MI, RCB, KXIP, RR, CSK\n",
    "matches_teams = matches_seasons.loc[(matches_seasons['team1'].isin(['Kolkata Knight Riders', \\\n",
    "'Royal Challengers Bangalore', 'Delhi Daredevils', 'Chennai Super Kings', 'Rajasthan Royals', \\\n",
    "'Mumbai Indians', 'Kings XI Punjab'])) & (matches_seasons['team2'].isin(['Kolkata Knight Riders', \\\n",
    "'Royal Challengers Bangalore', 'Delhi Daredevils', 'Chennai Super Kings', 'Rajasthan Royals', \\\n",
    "'Mumbai Indians', 'Kings XI Punjab']))]\n",
    "matches_teams.team1.unique()"
   ]
  },
  {
   "cell_type": "code",
   "execution_count": 9,
   "metadata": {
    "collapsed": false
   },
   "outputs": [
    {
     "data": {
      "text/plain": [
       "array(['Kolkata Knight Riders', 'Royal Challengers Bangalore',\n",
       "       'Chennai Super Kings', 'Kings XI Punjab', 'Rajasthan Royals',\n",
       "       'Delhi Daredevils', 'Mumbai Indians'], dtype=object)"
      ]
     },
     "execution_count": 9,
     "metadata": {},
     "output_type": "execute_result"
    }
   ],
   "source": [
    "# Selecting teams DD, KKR, MI, RCB, KXIP, RR, CSK\n",
    "matches_team_matchids = matches_teams.id.unique()\n",
    "deliveries_teams = deliveries_seasons.loc[deliveries_seasons['match_id'].isin(matches_team_matchids)]\n",
    "deliveries_teams.batting_team.unique()"
   ]
  },
  {
   "cell_type": "code",
   "execution_count": 10,
   "metadata": {
    "collapsed": true
   },
   "outputs": [],
   "source": [
    "# Neglect matches with inconsistencies like 'No Result' or 'D/L Applied'\n",
    "matches = matches_teams.loc[(matches_teams['result'] == 'normal') & (matches_teams['dl_applied'] == 0)]"
   ]
  },
  {
   "cell_type": "code",
   "execution_count": 11,
   "metadata": {
    "collapsed": true
   },
   "outputs": [],
   "source": [
    "# Neglect matches with inconsistencies like 'No Result' or 'D/L Applied'\n",
    "matches_matchids = matches.id.unique()\n",
    "deliveries = deliveries_teams.loc[deliveries_teams['match_id'].isin(matches_matchids)]"
   ]
  },
  {
   "cell_type": "code",
   "execution_count": 12,
   "metadata": {
    "collapsed": false
   },
   "outputs": [
    {
     "data": {
      "text/plain": [
       "True"
      ]
     },
     "execution_count": 12,
     "metadata": {},
     "output_type": "execute_result"
    }
   ],
   "source": [
    "# Verifying consistency between datasets\n",
    "(matches.id.unique() == deliveries.match_id.unique()).all()"
   ]
  },
  {
   "cell_type": "markdown",
   "metadata": {},
   "source": [
    "# Building Features"
   ]
  },
  {
   "cell_type": "code",
   "execution_count": 18,
   "metadata": {
    "collapsed": true
   },
   "outputs": [],
   "source": [
    "# Batsman Strike Rate Calculation\n",
    "# Team 1: Batting First; Team 2: Fielding First\n",
    "\n",
    "def getMatchDeliveriesDF(match_id):\n",
    "    return deliveries.loc[deliveries['match_id'] == match_id]\n",
    "\n",
    "def getInningsOneBatsmen(match_deliveries):\n",
    "    return match_deliveries.loc[match_deliveries['inning'] == 1].batsman.unique()[0:5]\n",
    "\n",
    "def getInningsTwoBatsmen(match_deliveries):\n",
    "    return match_deliveries.loc[match_deliveries['inning'] == 2].batsman.unique()[0:5]\n",
    "\n",
    "def getBatsmanStrikeRate(batsman, match_id):\n",
    "    onstrikedeliveries = deliveries.loc[(deliveries['match_id'] < match_id) & (deliveries['batsman'] == batsman)]\n",
    "    total_runs = onstrikedeliveries['batsman_runs'].sum()\n",
    "    total_balls = onstrikedeliveries.shape[0]\n",
    "    if total_balls != 0: \n",
    "        return (total_runs/total_balls) * 100\n",
    "    else:\n",
    "        return None\n",
    "\n",
    "def getTeamStrikeRate(batsmen, match_id):\n",
    "    strike_rates = []\n",
    "    for batsman in batsmen:\n",
    "        bsr = getBatsmanStrikeRate(batsman, match_id)\n",
    "        if bsr != None:\n",
    "            strike_rates.append(bsr)\n",
    "    return np.mean(strike_rates)\n",
    "\n",
    "def getAverageStrikeRates(match_id):\n",
    "    match_deliveries = getMatchDeliveriesDF(match_id)\n",
    "    innOneBatsmen = getInningsOneBatsmen(match_deliveries)\n",
    "    innTwoBatsmen = getInningsTwoBatsmen(match_deliveries)\n",
    "    teamOneSR = getTeamStrikeRate(innOneBatsmen, match_id)\n",
    "    teamTwoSR = getTeamStrikeRate(innTwoBatsmen, match_id)\n",
    "    return teamOneSR, teamTwoSR"
   ]
  },
  {
   "cell_type": "code",
   "execution_count": 19,
   "metadata": {
    "collapsed": false
   },
   "outputs": [
    {
     "data": {
      "text/plain": [
       "(126.98024523159935, 128.55579510411653)"
      ]
     },
     "execution_count": 19,
     "metadata": {},
     "output_type": "execute_result"
    }
   ],
   "source": [
    "# testing functionality\n",
    "getAverageStrikeRates(517)"
   ]
  },
  {
   "cell_type": "code",
   "execution_count": 20,
   "metadata": {
    "collapsed": false
   },
   "outputs": [],
   "source": [
    "# Bowler Rating : Wickets/Run (Higher the Better)\n",
    "# Team 1: Batting First; Team 2: Fielding First\n",
    "\n",
    "def getInningsOneBowlers(match_deliveries):\n",
    "    return match_deliveries.loc[match_deliveries['inning'] == 1].bowler.unique()[0:4]\n",
    "\n",
    "def getInningsTwoBowlers(match_deliveries):\n",
    "    return match_deliveries.loc[match_deliveries['inning'] == 2].bowler.unique()[0:4]\n",
    "\n",
    "def getBowlerWPR(bowler, match_id):\n",
    "    balls = deliveries.loc[(deliveries['match_id'] < match_id) & (deliveries['bowler'] == bowler)]\n",
    "    total_runs = balls['total_runs'].sum()\n",
    "    total_wickets = balls.loc[balls['dismissal_kind'].isin(['caught', 'bowled', 'lbw', \\\n",
    "    'caught and bowled', 'stumped'])].shape[0]\n",
    "    if balls.shape[0] > 0:\n",
    "        return (total_wickets/total_runs) * 100\n",
    "    else:\n",
    "        return None\n",
    "\n",
    "def getTeamWPR(bowlers, match_id):\n",
    "    WPRs = []\n",
    "    for bowler in bowlers:\n",
    "        bwpr = getBowlerWPR(bowler, match_id)\n",
    "        if bwpr != None:\n",
    "            WPRs.append(bwpr)\n",
    "    return np.mean(WPRs)\n",
    "\n",
    "def getAverageWPR(match_id):\n",
    "    match_deliveries = getMatchDeliveriesDF(match_id)\n",
    "    innOneBowlers = getInningsOneBowlers(match_deliveries)\n",
    "    innTwoBowlers = getInningsTwoBowlers(match_deliveries)\n",
    "    teamOneWPR = getTeamWPR(innTwoBowlers, match_id)\n",
    "    teamTwoWPR = getTeamWPR(innOneBowlers, match_id)\n",
    "    return teamOneWPR, teamTwoWPR"
   ]
  },
  {
   "cell_type": "code",
   "execution_count": 21,
   "metadata": {
    "collapsed": false
   },
   "outputs": [
    {
     "data": {
      "text/plain": [
       "(2.7641806594085776, 4.4721111768026631)"
      ]
     },
     "execution_count": 21,
     "metadata": {},
     "output_type": "execute_result"
    }
   ],
   "source": [
    "# testing functionality\n",
    "getAverageWPR(517)"
   ]
  },
  {
   "cell_type": "code",
   "execution_count": 24,
   "metadata": {
    "collapsed": true
   },
   "outputs": [],
   "source": [
    "# MVP Score\n",
    "# Team 1: Batting First; Team 2: Fielding First\n",
    "\n",
    "def getAllInningsOneBatsmen(match_deliveries):\n",
    "    return match_deliveries.loc[match_deliveries['inning'] == 1].batsman.unique()\n",
    "\n",
    "def getAllInningsTwoBatsmen(match_deliveries):\n",
    "    return match_deliveries.loc[match_deliveries['inning'] == 2].batsman.unique()\n",
    "\n",
    "def getAllInningsOneBowlers(match_deliveries):\n",
    "    return match_deliveries.loc[match_deliveries['inning'] == 1].bowler.unique()\n",
    "\n",
    "def getAllInningsTwoBowlers(match_deliveries):\n",
    "    return match_deliveries.loc[match_deliveries['inning'] == 2].bowler.unique()\n",
    "\n",
    "def makeSquad(batsmen, bowlers):\n",
    "    p = []\n",
    "    p = np.append(p, batsmen)\n",
    "    for i in bowlers:\n",
    "        if i not in batsmen:\n",
    "            p = np.append(p, i)\n",
    "    return p\n",
    "\n",
    "def getPlayerMVPAwards(player, match_id):\n",
    "    return matches.loc[(matches['player_of_match'] == player) & (matches['id'] < match_id)].shape[0]\n",
    "\n",
    "def getTeamMVPAwards(squad, match_id):\n",
    "    num_awards = 0\n",
    "    for player in squad:\n",
    "        num_awards += getPlayerMVPAwards(player, match_id)\n",
    "    return num_awards\n",
    "\n",
    "def compareMVPAwards(match_id):\n",
    "    match_deliveries = getMatchDeliveriesDF(match_id)\n",
    "    innOneBatsmen = getAllInningsOneBatsmen(match_deliveries)\n",
    "    innTwoBatsmen = getAllInningsTwoBatsmen(match_deliveries)\n",
    "    innOneBowlers = getAllInningsOneBowlers(match_deliveries)\n",
    "    innTwoBowlers = getAllInningsTwoBowlers(match_deliveries)\n",
    "    teamOneSquad = makeSquad(innOneBatsmen, innTwoBowlers)\n",
    "    teamTwoSquad = makeSquad(innTwoBatsmen, innOneBowlers)\n",
    "    teamOneAwards = getTeamMVPAwards(teamOneSquad, match_id)\n",
    "    teamTwoAwards = getTeamMVPAwards(teamTwoSquad, match_id)\n",
    "    return teamOneAwards, teamTwoAwards"
   ]
  },
  {
   "cell_type": "code",
   "execution_count": 25,
   "metadata": {
    "collapsed": false
   },
   "outputs": [
    {
     "data": {
      "text/plain": [
       "(28, 52)"
      ]
     },
     "execution_count": 25,
     "metadata": {},
     "output_type": "execute_result"
    }
   ],
   "source": [
    "compareMVPAwards(517)"
   ]
  },
  {
   "cell_type": "code",
   "execution_count": 26,
   "metadata": {
    "collapsed": true
   },
   "outputs": [],
   "source": [
    "def generateSquadRating(match_id):\n",
    "    gameday_teams = deliveries.loc[(deliveries['match_id'] == match_id)].batting_team.unique()\n",
    "    teamOne = gameday_teams[0]\n",
    "    teamTwo = gameday_teams[1]\n",
    "    teamOneSR, teamTwoSR = getAverageStrikeRates(match_id)\n",
    "    teamOneWPR, teamTwoWPR = getAverageWPR(match_id)\n",
    "    teamOneMVPs, teamTwoMVPs = compareMVPAwards(match_id)\n",
    "    print \"Comparing squads for \" + teamOne + \" vs \" + teamTwo\n",
    "    print \"\\nAverage Strike Rate for Batsmen in \" + str(teamOne) + \" : \" + str(teamOneSR)\n",
    "    print \"\\nAverage Strike Rate for Batsmen in \" + str(teamTwo) + \" : \" + str(teamTwoSR)\n",
    "    print \"\\nBowler Rating for \" + str(teamOne) + \" : \" + str(teamOneWPR)\n",
    "    print \"\\nBowler Rating for \" + str(teamTwo) + \" : \" + str(teamTwoWPR)\n",
    "    print \"\\nNumber of MVP Awards in \" + str(teamOne) + \" : \" + str(teamOneMVPs)\n",
    "    print \"\\nNumber of MVP Awards in \" + str(teamTwo) + \" : \" + str(teamTwoMVPs)"
   ]
  },
  {
   "cell_type": "code",
   "execution_count": 30,
   "metadata": {
    "collapsed": false
   },
   "outputs": [
    {
     "name": "stdout",
     "output_type": "stream",
     "text": [
      "Comparing squads for Mumbai Indians vs Chennai Super Kings\n",
      "\n",
      "Average Strike Rate for Batsmen in Mumbai Indians : 126.980245232\n",
      "\n",
      "Average Strike Rate for Batsmen in Chennai Super Kings : 128.555795104\n",
      "\n",
      "Bowler Rating for Mumbai Indians : 2.76418065941\n",
      "\n",
      "Bowler Rating for Chennai Super Kings : 4.4721111768\n",
      "\n",
      "Number of MVP Awards in Mumbai Indians : 28\n",
      "\n",
      "Number of MVP Awards in Chennai Super Kings : 52\n"
     ]
    }
   ],
   "source": [
    "generateSquadRating(517)"
   ]
  },
  {
   "cell_type": "code",
   "execution_count": 31,
   "metadata": {
    "collapsed": true
   },
   "outputs": [],
   "source": [
    "## 2nd Feature : Previous Encounter\n",
    "# Won by runs and won by wickets (Higher the better)\n",
    "\n",
    "def getTeam1(match_id):\n",
    "    return matches.loc[matches[\"id\"] == match_id].team1.unique()\n",
    "\n",
    "def getTeam2(match_id):\n",
    "    return matches.loc[matches[\"id\"] == match_id].team2.unique()\n",
    "\n",
    "def getPreviousEncDF(match_id):\n",
    "    team1 = getTeam1(match_id)\n",
    "    team2 = getTeam2(match_id)\n",
    "    return matches.loc[(matches[\"id\"] < match_id) & (((matches[\"team1\"].isin(team1)) & (matches[\"team2\"].isin(team2))) | ((matches[\"team1\"].isin(team2)) & (matches[\"team2\"].isin(team1))))]\n",
    "\n",
    "def getTeamWBR(match_id, team):\n",
    "    WBR = 0\n",
    "    DF = getPreviousEncDF(match_id)\n",
    "    winnerDF = DF.loc[DF[\"winner\"] == team]\n",
    "    WBR = winnerDF['win_by_runs'].sum()    \n",
    "    return WBR\n",
    "\n",
    "\n",
    "def getTeamWBW(match_id, team):\n",
    "    WBW = 0 \n",
    "    DF = getPreviousEncDF(match_id)\n",
    "    winnerDF = DF.loc[DF[\"winner\"] == team]\n",
    "    WBW = winnerDF['win_by_wickets'].sum()\n",
    "    return WBW \n",
    "    \n",
    "def getBothTeamStats(match_id):\n",
    "    DF = getPreviousEncDF(match_id)\n",
    "    timesPlayed = DF.shape[0]\n",
    "    team1 = getTeam1(match_id)[0].strip(\"[]\")\n",
    "    team2 = getTeam2(match_id)[0].strip(\"[]\")\n",
    "    timesWon = DF.loc[DF[\"winner\"] == team1].shape[0]\n",
    "    WBRTeam1 = getTeamWBR(match_id, team1)\n",
    "    WBRTeam2 = getTeamWBR(match_id, team2)\n",
    "    WBWTeam1 = getTeamWBW(match_id, team1)\n",
    "    WBWTeam2 = getTeamWBW(match_id, team2)\n",
    "\n",
    "    print \"{} and {} have played {} times in the past and {} have won {} times out of that.\".format(team1, team2, timesPlayed, team1, timesWon)\n",
    "    print \"{} won by {} total runs and {} total wickets.\".format(team1, WBRTeam1, WBWTeam1)\n",
    "    print \"{} won by {} total runs and {} total wickets.\".format(team2, WBRTeam2, WBWTeam2)"
   ]
  },
  {
   "cell_type": "code",
   "execution_count": 32,
   "metadata": {
    "collapsed": false
   },
   "outputs": [
    {
     "name": "stdout",
     "output_type": "stream",
     "text": [
      "Royal Challengers Bangalore and Mumbai Indians have played 16 times in the past and Royal Challengers Bangalore have won 7 times out of that.\n",
      "Royal Challengers Bangalore won by 45 total runs and 37 total wickets.\n",
      "Mumbai Indians won by 203 total runs and 23 total wickets.\n"
     ]
    }
   ],
   "source": [
    "#Testing functionality \n",
    "getBothTeamStats(503)"
   ]
  },
  {
   "cell_type": "code",
   "execution_count": 33,
   "metadata": {
    "collapsed": true
   },
   "outputs": [],
   "source": [
    "#3rd Feature: Recent Form (Win Percentage of all the previous matches of a team in the same season)\n",
    "#Higher the better\n",
    "\n",
    "def getMatchYear(match_id):\n",
    "    return matches.loc[matches[\"id\"] == match_id].season.unique()\n",
    "\n",
    "def getTeam1DF(match_id, year):\n",
    "    team1 = getTeam1(match_id)\n",
    "    return matches.loc[(matches[\"id\"] < match_id) & (matches[\"season\"] == year) & ((matches[\"team1\"].isin(team1)) | (matches[\"team2\"].isin(team1)))]\n",
    "\n",
    "def getTeam2DF(match_id, year):\n",
    "    team2 = getTeam2(match_id)\n",
    "    return matches.loc[(matches[\"id\"] < match_id) & (matches[\"season\"] == year) & ((matches[\"team1\"].isin(team2)) | (matches[\"team2\"].isin(team2)))]\n",
    "\n",
    "def getTeamWinPercentage(match_id):\n",
    "    win = 0\n",
    "    total = 0\n",
    "    year = int(getMatchYear(match_id))\n",
    "    team1 = getTeam1(match_id)[0].strip(\"[]\")\n",
    "    team2 = getTeam2(match_id)[0].strip(\"[]\")\n",
    "    team1DF = getTeam1DF(match_id, year)\n",
    "    team2DF = getTeam2DF(match_id, year)\n",
    "    team1TotalMatches = team1DF.shape[0]\n",
    "    team1WinMatches = team1DF.loc[team1DF[\"winner\"] == team1].shape[0]\n",
    "    team2TotalMatches = team2DF.shape[0]\n",
    "    team2WinMatches = team2DF.loc[team2DF[\"winner\"] == team2].shape[0]\n",
    "    winPercTeam1 = (team1WinMatches / team1TotalMatches) * 100\n",
    "    winPercTeam2 = (team2WinMatches / team2TotalMatches) * 100\n",
    "    print \"In the season of {}, {} has a win percentage of {}% and {} has a win percentage of {}% \".format(year, team1, winPercTeam1, team2, winPercTeam2)\n",
    "    "
   ]
  },
  {
   "cell_type": "code",
   "execution_count": 34,
   "metadata": {
    "collapsed": true
   },
   "outputs": [],
   "source": [
    "#Function to implement all features\n",
    "def getAllFeatures(match_id):\n",
    "    generateSquadRating(match_id)\n",
    "    print (\"\\n\")\n",
    "    getBothTeamStats(match_id)\n",
    "    print(\"\\n\")\n",
    "    getTeamWinPercentage(match_id)\n"
   ]
  },
  {
   "cell_type": "code",
   "execution_count": 35,
   "metadata": {
    "collapsed": false
   },
   "outputs": [
    {
     "name": "stdout",
     "output_type": "stream",
     "text": [
      "Comparing squads for Mumbai Indians vs Chennai Super Kings\n",
      "\n",
      "Average Strike Rate for Batsmen in Mumbai Indians : 126.980245232\n",
      "\n",
      "Average Strike Rate for Batsmen in Chennai Super Kings : 128.555795104\n",
      "\n",
      "Bowler Rating for Mumbai Indians : 2.76418065941\n",
      "\n",
      "Bowler Rating for Chennai Super Kings : 4.4721111768\n",
      "\n",
      "Number of MVP Awards in Mumbai Indians : 28\n",
      "\n",
      "Number of MVP Awards in Chennai Super Kings : 52\n",
      "\n",
      "\n",
      "Mumbai Indians and Chennai Super Kings have played 21 times in the past and Mumbai Indians have won 11 times out of that.\n",
      "Mumbai Indians won by 144 total runs and 30 total wickets.\n",
      "Chennai Super Kings won by 138 total runs and 31 total wickets.\n",
      "\n",
      "\n",
      "In the season of 2015, Mumbai Indians has a win percentage of 53.8461538462% and Chennai Super Kings has a win percentage of 64.2857142857% \n"
     ]
    }
   ],
   "source": [
    "#Testing Functionality\n",
    "getAllFeatures(517)"
   ]
  },
  {
   "cell_type": "code",
   "execution_count": 1,
   "metadata": {
    "collapsed": false
   },
   "outputs": [
    {
     "ename": "NameError",
     "evalue": "name 'matches' is not defined",
     "output_type": "error",
     "traceback": [
      "\u001b[0;31m---------------------------------------------------------------------------\u001b[0m",
      "\u001b[0;31mNameError\u001b[0m                                 Traceback (most recent call last)",
      "\u001b[0;32m<ipython-input-1-4fbfd4250ae7>\u001b[0m in \u001b[0;36m<module>\u001b[0;34m()\u001b[0m\n\u001b[1;32m      3\u001b[0m \u001b[0mfirstTeamSR\u001b[0m \u001b[0;34m=\u001b[0m \u001b[0;34m[\u001b[0m\u001b[0;34m]\u001b[0m\u001b[0;34m\u001b[0m\u001b[0m\n\u001b[1;32m      4\u001b[0m \u001b[0msecondTeamSR\u001b[0m \u001b[0;34m=\u001b[0m \u001b[0;34m[\u001b[0m\u001b[0;34m]\u001b[0m\u001b[0;34m\u001b[0m\u001b[0m\n\u001b[0;32m----> 5\u001b[0;31m \u001b[0;32mfor\u001b[0m \u001b[0mi\u001b[0m \u001b[0;32min\u001b[0m \u001b[0mmatches\u001b[0m\u001b[0;34m[\u001b[0m\u001b[0;34m'id'\u001b[0m\u001b[0;34m]\u001b[0m\u001b[0;34m.\u001b[0m\u001b[0munique\u001b[0m\u001b[0;34m(\u001b[0m\u001b[0;34m)\u001b[0m\u001b[0;34m:\u001b[0m\u001b[0;34m\u001b[0m\u001b[0m\n\u001b[0m\u001b[1;32m      6\u001b[0m     \u001b[0mP\u001b[0m\u001b[0;34m,\u001b[0m \u001b[0mQ\u001b[0m \u001b[0;34m=\u001b[0m \u001b[0mgetAverageStrikeRates\u001b[0m\u001b[0;34m(\u001b[0m\u001b[0mi\u001b[0m\u001b[0;34m)\u001b[0m\u001b[0;34m\u001b[0m\u001b[0m\n\u001b[1;32m      7\u001b[0m     \u001b[0mfirstTeamSR\u001b[0m\u001b[0;34m.\u001b[0m\u001b[0mappend\u001b[0m\u001b[0;34m(\u001b[0m\u001b[0mP\u001b[0m\u001b[0;34m)\u001b[0m\u001b[0;34m,\u001b[0m \u001b[0msecondTeamSR\u001b[0m\u001b[0;34m.\u001b[0m\u001b[0mappend\u001b[0m\u001b[0;34m(\u001b[0m\u001b[0mQ\u001b[0m\u001b[0;34m)\u001b[0m\u001b[0;34m\u001b[0m\u001b[0m\n",
      "\u001b[0;31mNameError\u001b[0m: name 'matches' is not defined"
     ]
    }
   ],
   "source": [
    "#New Column for Difference of Average Strike rates (First Team SR - Second Team SR) [Negative value means Second team is better]\n",
    "\n",
    "firstTeamSR = []\n",
    "secondTeamSR = []\n",
    "for i in matches['id'].unique():\n",
    "    P, Q = getAverageStrikeRates(i)\n",
    "    firstTeamSR.append(P), secondTeamSR.append(Q)\n",
    "firstSRSeries = pd.Series(firstTeamSR)\n",
    "secondSRSeries = pd.Series(secondTeamSR)\n",
    "matches[\"Avg_SR_Difference\"] = firstSRSeries.values - secondSRSeries.values "
   ]
  },
  {
   "cell_type": "code",
   "execution_count": 4,
   "metadata": {
    "collapsed": false
   },
   "outputs": [
    {
     "ename": "NameError",
     "evalue": "name 'matches' is not defined",
     "output_type": "error",
     "traceback": [
      "\u001b[0;31m---------------------------------------------------------------------------\u001b[0m",
      "\u001b[0;31mNameError\u001b[0m                                 Traceback (most recent call last)",
      "\u001b[0;32m<ipython-input-4-9b714e5582ff>\u001b[0m in \u001b[0;36m<module>\u001b[0;34m()\u001b[0m\n\u001b[1;32m      3\u001b[0m \u001b[0mfirstTeamWPR\u001b[0m \u001b[0;34m=\u001b[0m \u001b[0;34m[\u001b[0m\u001b[0;34m]\u001b[0m\u001b[0;34m\u001b[0m\u001b[0m\n\u001b[1;32m      4\u001b[0m \u001b[0msecondTeamWPR\u001b[0m \u001b[0;34m=\u001b[0m \u001b[0;34m[\u001b[0m\u001b[0;34m]\u001b[0m\u001b[0;34m\u001b[0m\u001b[0m\n\u001b[0;32m----> 5\u001b[0;31m \u001b[0;32mfor\u001b[0m \u001b[0mi\u001b[0m \u001b[0;32min\u001b[0m \u001b[0mmatches\u001b[0m\u001b[0;34m[\u001b[0m\u001b[0;34m'id'\u001b[0m\u001b[0;34m]\u001b[0m\u001b[0;34m.\u001b[0m\u001b[0munique\u001b[0m\u001b[0;34m(\u001b[0m\u001b[0;34m)\u001b[0m\u001b[0;34m:\u001b[0m\u001b[0;34m\u001b[0m\u001b[0m\n\u001b[0m\u001b[1;32m      6\u001b[0m     \u001b[0mR\u001b[0m\u001b[0;34m,\u001b[0m \u001b[0mS\u001b[0m \u001b[0;34m=\u001b[0m \u001b[0mgetAverageWPR\u001b[0m\u001b[0;34m(\u001b[0m\u001b[0mi\u001b[0m\u001b[0;34m)\u001b[0m\u001b[0;34m\u001b[0m\u001b[0m\n\u001b[1;32m      7\u001b[0m     \u001b[0mfirstTeamWPR\u001b[0m\u001b[0;34m.\u001b[0m\u001b[0mappend\u001b[0m\u001b[0;34m(\u001b[0m\u001b[0mR\u001b[0m\u001b[0;34m)\u001b[0m\u001b[0;34m,\u001b[0m \u001b[0msecondTeamWPR\u001b[0m\u001b[0;34m.\u001b[0m\u001b[0mappend\u001b[0m\u001b[0;34m(\u001b[0m\u001b[0mS\u001b[0m\u001b[0;34m)\u001b[0m\u001b[0;34m\u001b[0m\u001b[0m\n",
      "\u001b[0;31mNameError\u001b[0m: name 'matches' is not defined"
     ]
    }
   ],
   "source": [
    "#New Column for Difference of Wickets Per Run (First Team WPR - Second Team WPR) [Negative value means Second team is better]\n",
    "\n",
    "firstTeamWPR = []\n",
    "secondTeamWPR = []\n",
    "for i in matches['id'].unique():\n",
    "    R, S = getAverageWPR(i)\n",
    "    firstTeamWPR.append(R), secondTeamWPR.append(S)\n",
    "firstWPRSeries = pd.Series(firstTeamWPR)\n",
    "secondWPRSeries = pd.Series(secondTeamWPR)\n",
    "matches[\"Avg_WPR_Difference\"] = firstWPRSeries.values - secondWPRSeries.values "
   ]
  },
  {
   "cell_type": "code",
   "execution_count": null,
   "metadata": {
    "collapsed": true
   },
   "outputs": [],
   "source": []
  }
 ],
 "metadata": {
  "kernelspec": {
   "display_name": "Python 2",
   "language": "python",
   "name": "python2"
  },
  "language_info": {
   "codemirror_mode": {
    "name": "ipython",
    "version": 2
   },
   "file_extension": ".py",
   "mimetype": "text/x-python",
   "name": "python",
   "nbconvert_exporter": "python",
   "pygments_lexer": "ipython2",
   "version": "2.7.13"
  }
 },
 "nbformat": 4,
 "nbformat_minor": 2
}
