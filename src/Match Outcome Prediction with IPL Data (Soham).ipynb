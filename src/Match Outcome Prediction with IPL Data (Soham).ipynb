{
 "cells": [
  {
   "cell_type": "markdown",
   "metadata": {},
   "source": [
    "# Predicting the Outcome of Cricket Matches"
   ]
  },
  {
   "cell_type": "markdown",
   "metadata": {},
   "source": [
    "## Introduction\n",
    "\n",
    "In this project, we shall build a model which predicts the outcome of cricket matches in the Indian Premier League using data about matches and deliveries.\n",
    "\n",
    "### Data Mining:\n",
    "\n",
    "  * Season : 2008 - 2015 (8 Seasons)\n",
    "  * Teams : DD, KKR, MI, RCB, KXIP, RR, CSK (7 Teams)\n",
    "  * Neglect matches that have inconsistencies such as No Result, Tie, D/L Method, etc.\n",
    "\n",
    "### Features:\n",
    "\n",
    "  * Average Batsman Rating (Strike Rate)\n",
    "  * Average Bowler Rating (Wickets per Run)\n",
    "  * Player of the Match Awards \n",
    "  * Previous Encounters - Win by runs, Win by Wickets \n",
    "  * Recent form\n",
    "  \n",
    "### Prediction Model\n",
    "\n",
    "  * Logistic Regression using sklearn\n",
    "  * K-Nearest Neighbors using sklearn\n",
    "  \n",
    "  "
   ]
  },
  {
   "cell_type": "code",
   "execution_count": 535,
   "metadata": {
    "collapsed": false
   },
   "outputs": [],
   "source": [
    "%matplotlib inline \n",
    "import numpy as np # imports a fast numerical programming library\n",
    "import matplotlib.pyplot as plt #sets up plotting under plt\n",
    "import pandas as pd #lets us handle data as dataframes\n",
    "#sets up pandas table display\n",
    "pd.set_option('display.width', 500)\n",
    "pd.set_option('display.max_columns', 100)\n",
    "pd.set_option('display.notebook_repr_html', True)\n",
    "import seaborn as sns\n",
    "sns.set(style=\"whitegrid\", color_codes=True)\n",
    "from __future__ import division"
   ]
  },
  {
   "cell_type": "markdown",
   "metadata": {},
   "source": [
    "## Data Mining\n",
    "  "
   ]
  },
  {
   "cell_type": "code",
   "execution_count": 536,
   "metadata": {
    "collapsed": false
   },
   "outputs": [
    {
     "data": {
      "text/html": [
       "<div>\n",
       "<table border=\"1\" class=\"dataframe\">\n",
       "  <thead>\n",
       "    <tr style=\"text-align: right;\">\n",
       "      <th></th>\n",
       "      <th>id</th>\n",
       "      <th>season</th>\n",
       "      <th>city</th>\n",
       "      <th>date</th>\n",
       "      <th>team1</th>\n",
       "      <th>team2</th>\n",
       "      <th>toss_winner</th>\n",
       "      <th>toss_decision</th>\n",
       "      <th>result</th>\n",
       "      <th>dl_applied</th>\n",
       "      <th>winner</th>\n",
       "      <th>win_by_runs</th>\n",
       "      <th>win_by_wickets</th>\n",
       "      <th>player_of_match</th>\n",
       "      <th>venue</th>\n",
       "      <th>umpire1</th>\n",
       "      <th>umpire2</th>\n",
       "      <th>umpire3</th>\n",
       "    </tr>\n",
       "  </thead>\n",
       "  <tbody>\n",
       "    <tr>\n",
       "      <th>0</th>\n",
       "      <td>1</td>\n",
       "      <td>2008</td>\n",
       "      <td>Bangalore</td>\n",
       "      <td>2008-04-18</td>\n",
       "      <td>Kolkata Knight Riders</td>\n",
       "      <td>Royal Challengers Bangalore</td>\n",
       "      <td>Royal Challengers Bangalore</td>\n",
       "      <td>field</td>\n",
       "      <td>normal</td>\n",
       "      <td>0</td>\n",
       "      <td>Kolkata Knight Riders</td>\n",
       "      <td>140</td>\n",
       "      <td>0</td>\n",
       "      <td>BB McCullum</td>\n",
       "      <td>M Chinnaswamy Stadium</td>\n",
       "      <td>Asad Rauf</td>\n",
       "      <td>RE Koertzen</td>\n",
       "      <td>NaN</td>\n",
       "    </tr>\n",
       "    <tr>\n",
       "      <th>1</th>\n",
       "      <td>2</td>\n",
       "      <td>2008</td>\n",
       "      <td>Chandigarh</td>\n",
       "      <td>2008-04-19</td>\n",
       "      <td>Chennai Super Kings</td>\n",
       "      <td>Kings XI Punjab</td>\n",
       "      <td>Chennai Super Kings</td>\n",
       "      <td>bat</td>\n",
       "      <td>normal</td>\n",
       "      <td>0</td>\n",
       "      <td>Chennai Super Kings</td>\n",
       "      <td>33</td>\n",
       "      <td>0</td>\n",
       "      <td>MEK Hussey</td>\n",
       "      <td>Punjab Cricket Association Stadium, Mohali</td>\n",
       "      <td>MR Benson</td>\n",
       "      <td>SL Shastri</td>\n",
       "      <td>NaN</td>\n",
       "    </tr>\n",
       "    <tr>\n",
       "      <th>2</th>\n",
       "      <td>3</td>\n",
       "      <td>2008</td>\n",
       "      <td>Delhi</td>\n",
       "      <td>2008-04-19</td>\n",
       "      <td>Rajasthan Royals</td>\n",
       "      <td>Delhi Daredevils</td>\n",
       "      <td>Rajasthan Royals</td>\n",
       "      <td>bat</td>\n",
       "      <td>normal</td>\n",
       "      <td>0</td>\n",
       "      <td>Delhi Daredevils</td>\n",
       "      <td>0</td>\n",
       "      <td>9</td>\n",
       "      <td>MF Maharoof</td>\n",
       "      <td>Feroz Shah Kotla</td>\n",
       "      <td>Aleem Dar</td>\n",
       "      <td>GA Pratapkumar</td>\n",
       "      <td>NaN</td>\n",
       "    </tr>\n",
       "    <tr>\n",
       "      <th>3</th>\n",
       "      <td>4</td>\n",
       "      <td>2008</td>\n",
       "      <td>Mumbai</td>\n",
       "      <td>2008-04-20</td>\n",
       "      <td>Mumbai Indians</td>\n",
       "      <td>Royal Challengers Bangalore</td>\n",
       "      <td>Mumbai Indians</td>\n",
       "      <td>bat</td>\n",
       "      <td>normal</td>\n",
       "      <td>0</td>\n",
       "      <td>Royal Challengers Bangalore</td>\n",
       "      <td>0</td>\n",
       "      <td>5</td>\n",
       "      <td>MV Boucher</td>\n",
       "      <td>Wankhede Stadium</td>\n",
       "      <td>SJ Davis</td>\n",
       "      <td>DJ Harper</td>\n",
       "      <td>NaN</td>\n",
       "    </tr>\n",
       "    <tr>\n",
       "      <th>4</th>\n",
       "      <td>5</td>\n",
       "      <td>2008</td>\n",
       "      <td>Kolkata</td>\n",
       "      <td>2008-04-20</td>\n",
       "      <td>Deccan Chargers</td>\n",
       "      <td>Kolkata Knight Riders</td>\n",
       "      <td>Deccan Chargers</td>\n",
       "      <td>bat</td>\n",
       "      <td>normal</td>\n",
       "      <td>0</td>\n",
       "      <td>Kolkata Knight Riders</td>\n",
       "      <td>0</td>\n",
       "      <td>5</td>\n",
       "      <td>DJ Hussey</td>\n",
       "      <td>Eden Gardens</td>\n",
       "      <td>BF Bowden</td>\n",
       "      <td>K Hariharan</td>\n",
       "      <td>NaN</td>\n",
       "    </tr>\n",
       "    <tr>\n",
       "      <th>5</th>\n",
       "      <td>6</td>\n",
       "      <td>2008</td>\n",
       "      <td>Jaipur</td>\n",
       "      <td>2008-04-21</td>\n",
       "      <td>Kings XI Punjab</td>\n",
       "      <td>Rajasthan Royals</td>\n",
       "      <td>Kings XI Punjab</td>\n",
       "      <td>bat</td>\n",
       "      <td>normal</td>\n",
       "      <td>0</td>\n",
       "      <td>Rajasthan Royals</td>\n",
       "      <td>0</td>\n",
       "      <td>6</td>\n",
       "      <td>SR Watson</td>\n",
       "      <td>Sawai Mansingh Stadium</td>\n",
       "      <td>Aleem Dar</td>\n",
       "      <td>RB Tiffin</td>\n",
       "      <td>NaN</td>\n",
       "    </tr>\n",
       "    <tr>\n",
       "      <th>6</th>\n",
       "      <td>7</td>\n",
       "      <td>2008</td>\n",
       "      <td>Hyderabad</td>\n",
       "      <td>2008-04-22</td>\n",
       "      <td>Deccan Chargers</td>\n",
       "      <td>Delhi Daredevils</td>\n",
       "      <td>Deccan Chargers</td>\n",
       "      <td>bat</td>\n",
       "      <td>normal</td>\n",
       "      <td>0</td>\n",
       "      <td>Delhi Daredevils</td>\n",
       "      <td>0</td>\n",
       "      <td>9</td>\n",
       "      <td>V Sehwag</td>\n",
       "      <td>Rajiv Gandhi International Stadium, Uppal</td>\n",
       "      <td>IL Howell</td>\n",
       "      <td>AM Saheba</td>\n",
       "      <td>NaN</td>\n",
       "    </tr>\n",
       "    <tr>\n",
       "      <th>7</th>\n",
       "      <td>8</td>\n",
       "      <td>2008</td>\n",
       "      <td>Chennai</td>\n",
       "      <td>2008-04-23</td>\n",
       "      <td>Chennai Super Kings</td>\n",
       "      <td>Mumbai Indians</td>\n",
       "      <td>Mumbai Indians</td>\n",
       "      <td>field</td>\n",
       "      <td>normal</td>\n",
       "      <td>0</td>\n",
       "      <td>Chennai Super Kings</td>\n",
       "      <td>6</td>\n",
       "      <td>0</td>\n",
       "      <td>ML Hayden</td>\n",
       "      <td>MA Chidambaram Stadium, Chepauk</td>\n",
       "      <td>DJ Harper</td>\n",
       "      <td>GA Pratapkumar</td>\n",
       "      <td>NaN</td>\n",
       "    </tr>\n",
       "    <tr>\n",
       "      <th>8</th>\n",
       "      <td>9</td>\n",
       "      <td>2008</td>\n",
       "      <td>Hyderabad</td>\n",
       "      <td>2008-04-24</td>\n",
       "      <td>Deccan Chargers</td>\n",
       "      <td>Rajasthan Royals</td>\n",
       "      <td>Rajasthan Royals</td>\n",
       "      <td>field</td>\n",
       "      <td>normal</td>\n",
       "      <td>0</td>\n",
       "      <td>Rajasthan Royals</td>\n",
       "      <td>0</td>\n",
       "      <td>3</td>\n",
       "      <td>YK Pathan</td>\n",
       "      <td>Rajiv Gandhi International Stadium, Uppal</td>\n",
       "      <td>Asad Rauf</td>\n",
       "      <td>MR Benson</td>\n",
       "      <td>NaN</td>\n",
       "    </tr>\n",
       "    <tr>\n",
       "      <th>9</th>\n",
       "      <td>10</td>\n",
       "      <td>2008</td>\n",
       "      <td>Chandigarh</td>\n",
       "      <td>2008-04-25</td>\n",
       "      <td>Kings XI Punjab</td>\n",
       "      <td>Mumbai Indians</td>\n",
       "      <td>Mumbai Indians</td>\n",
       "      <td>field</td>\n",
       "      <td>normal</td>\n",
       "      <td>0</td>\n",
       "      <td>Kings XI Punjab</td>\n",
       "      <td>66</td>\n",
       "      <td>0</td>\n",
       "      <td>KC Sangakkara</td>\n",
       "      <td>Punjab Cricket Association Stadium, Mohali</td>\n",
       "      <td>Aleem Dar</td>\n",
       "      <td>AM Saheba</td>\n",
       "      <td>NaN</td>\n",
       "    </tr>\n",
       "  </tbody>\n",
       "</table>\n",
       "</div>"
      ],
      "text/plain": [
       "   id  season        city        date                  team1                        team2                  toss_winner toss_decision  result  dl_applied                       winner  win_by_runs  win_by_wickets player_of_match                                       venue    umpire1         umpire2  umpire3\n",
       "0   1    2008   Bangalore  2008-04-18  Kolkata Knight Riders  Royal Challengers Bangalore  Royal Challengers Bangalore         field  normal           0        Kolkata Knight Riders          140               0     BB McCullum                       M Chinnaswamy Stadium  Asad Rauf     RE Koertzen      NaN\n",
       "1   2    2008  Chandigarh  2008-04-19    Chennai Super Kings              Kings XI Punjab          Chennai Super Kings           bat  normal           0          Chennai Super Kings           33               0      MEK Hussey  Punjab Cricket Association Stadium, Mohali  MR Benson      SL Shastri      NaN\n",
       "2   3    2008       Delhi  2008-04-19       Rajasthan Royals             Delhi Daredevils             Rajasthan Royals           bat  normal           0             Delhi Daredevils            0               9     MF Maharoof                            Feroz Shah Kotla  Aleem Dar  GA Pratapkumar      NaN\n",
       "3   4    2008      Mumbai  2008-04-20         Mumbai Indians  Royal Challengers Bangalore               Mumbai Indians           bat  normal           0  Royal Challengers Bangalore            0               5      MV Boucher                            Wankhede Stadium   SJ Davis       DJ Harper      NaN\n",
       "4   5    2008     Kolkata  2008-04-20        Deccan Chargers        Kolkata Knight Riders              Deccan Chargers           bat  normal           0        Kolkata Knight Riders            0               5       DJ Hussey                                Eden Gardens  BF Bowden     K Hariharan      NaN\n",
       "5   6    2008      Jaipur  2008-04-21        Kings XI Punjab             Rajasthan Royals              Kings XI Punjab           bat  normal           0             Rajasthan Royals            0               6       SR Watson                      Sawai Mansingh Stadium  Aleem Dar       RB Tiffin      NaN\n",
       "6   7    2008   Hyderabad  2008-04-22        Deccan Chargers             Delhi Daredevils              Deccan Chargers           bat  normal           0             Delhi Daredevils            0               9        V Sehwag   Rajiv Gandhi International Stadium, Uppal  IL Howell       AM Saheba      NaN\n",
       "7   8    2008     Chennai  2008-04-23    Chennai Super Kings               Mumbai Indians               Mumbai Indians         field  normal           0          Chennai Super Kings            6               0       ML Hayden             MA Chidambaram Stadium, Chepauk  DJ Harper  GA Pratapkumar      NaN\n",
       "8   9    2008   Hyderabad  2008-04-24        Deccan Chargers             Rajasthan Royals             Rajasthan Royals         field  normal           0             Rajasthan Royals            0               3       YK Pathan   Rajiv Gandhi International Stadium, Uppal  Asad Rauf       MR Benson      NaN\n",
       "9  10    2008  Chandigarh  2008-04-25        Kings XI Punjab               Mumbai Indians               Mumbai Indians         field  normal           0              Kings XI Punjab           66               0   KC Sangakkara  Punjab Cricket Association Stadium, Mohali  Aleem Dar       AM Saheba      NaN"
      ]
     },
     "execution_count": 536,
     "metadata": {},
     "output_type": "execute_result"
    }
   ],
   "source": [
    "# Reading in the data\n",
    "allmatches = pd.read_csv(\"../data/matches.csv\")\n",
    "alldeliveries = pd.read_csv(\"../data/deliveries.csv\")\n",
    "allmatches.head(10)"
   ]
  },
  {
   "cell_type": "code",
   "execution_count": 537,
   "metadata": {
    "collapsed": true
   },
   "outputs": [],
   "source": [
    "# Selecting Seasons 2008 - 2015\n",
    "matches_seasons = allmatches.loc[allmatches['season'] != 2016]\n",
    "deliveries_seasons = alldeliveries.loc[alldeliveries['match_id'] < 518]"
   ]
  },
  {
   "cell_type": "code",
   "execution_count": 538,
   "metadata": {
    "collapsed": false
   },
   "outputs": [
    {
     "name": "stdout",
     "output_type": "stream",
     "text": [
      "Teams selected:\n",
      "\n",
      "Kolkata Knight Riders\n",
      "Chennai Super Kings\n",
      "Rajasthan Royals\n",
      "Mumbai Indians\n",
      "Kings XI Punjab\n",
      "Royal Challengers Bangalore\n",
      "Delhi Daredevils\n"
     ]
    }
   ],
   "source": [
    "# Selecting teams DD, KKR, MI, RCB, KXIP, RR, CSK\n",
    "matches_teams = matches_seasons.loc[(matches_seasons['team1'].isin(['Kolkata Knight Riders', \\\n",
    "'Royal Challengers Bangalore', 'Delhi Daredevils', 'Chennai Super Kings', 'Rajasthan Royals', \\\n",
    "'Mumbai Indians', 'Kings XI Punjab'])) & (matches_seasons['team2'].isin(['Kolkata Knight Riders', \\\n",
    "'Royal Challengers Bangalore', 'Delhi Daredevils', 'Chennai Super Kings', 'Rajasthan Royals', \\\n",
    "'Mumbai Indians', 'Kings XI Punjab']))]\n",
    "matches_team_matchids = matches_teams.id.unique()\n",
    "deliveries_teams = deliveries_seasons.loc[deliveries_seasons['match_id'].isin(matches_team_matchids)]\n",
    "print \"Teams selected:\\n\"\n",
    "for team in matches_teams.team1.unique():\n",
    "    print team"
   ]
  },
  {
   "cell_type": "code",
   "execution_count": 539,
   "metadata": {
    "collapsed": false
   },
   "outputs": [
    {
     "data": {
      "text/plain": [
       "True"
      ]
     },
     "execution_count": 539,
     "metadata": {},
     "output_type": "execute_result"
    }
   ],
   "source": [
    "# Neglect matches with inconsistencies like 'No Result' or 'D/L Applied'\n",
    "matches = matches_teams.loc[(matches_teams['result'] == 'normal') & (matches_teams['dl_applied'] == 0)]\n",
    "matches_matchids = matches.id.unique()\n",
    "deliveries = deliveries_teams.loc[deliveries_teams['match_id'].isin(matches_matchids)]\n",
    "# Verifying consistency between datasets\n",
    "(matches.id.unique() == deliveries.match_id.unique()).all()"
   ]
  },
  {
   "cell_type": "markdown",
   "metadata": {},
   "source": [
    "## Building Features"
   ]
  },
  {
   "cell_type": "code",
   "execution_count": 540,
   "metadata": {
    "collapsed": true
   },
   "outputs": [],
   "source": [
    "# Batsman Strike Rate Calculation\n",
    "# Team 1: Batting First; Team 2: Fielding First\n",
    "\n",
    "def getMatchDeliveriesDF(match_id):\n",
    "    return deliveries.loc[deliveries['match_id'] == match_id]\n",
    "\n",
    "def getInningsOneBatsmen(match_deliveries):\n",
    "    return match_deliveries.loc[match_deliveries['inning'] == 1].batsman.unique()[0:5]\n",
    "\n",
    "def getInningsTwoBatsmen(match_deliveries):\n",
    "    return match_deliveries.loc[match_deliveries['inning'] == 2].batsman.unique()[0:5]\n",
    "\n",
    "def getBatsmanStrikeRate(batsman, match_id):\n",
    "    onstrikedeliveries = deliveries.loc[(deliveries['match_id'] < match_id) & (deliveries['batsman'] == batsman)]\n",
    "    total_runs = onstrikedeliveries['batsman_runs'].sum()\n",
    "    total_balls = onstrikedeliveries.shape[0]\n",
    "    if total_balls != 0: \n",
    "        return (total_runs/total_balls) * 100\n",
    "    else:\n",
    "        return None\n",
    "\n",
    "def getTeamStrikeRate(batsmen, match_id):\n",
    "    strike_rates = []\n",
    "    for batsman in batsmen:\n",
    "        bsr = getBatsmanStrikeRate(batsman, match_id)\n",
    "        if bsr != None:\n",
    "            strike_rates.append(bsr)\n",
    "    return np.mean(strike_rates)\n",
    "\n",
    "def getAverageStrikeRates(match_id):\n",
    "    match_deliveries = getMatchDeliveriesDF(match_id)\n",
    "    innOneBatsmen = getInningsOneBatsmen(match_deliveries)\n",
    "    innTwoBatsmen = getInningsTwoBatsmen(match_deliveries)\n",
    "    teamOneSR = getTeamStrikeRate(innOneBatsmen, match_id)\n",
    "    teamTwoSR = getTeamStrikeRate(innTwoBatsmen, match_id)\n",
    "    return teamOneSR, teamTwoSR"
   ]
  },
  {
   "cell_type": "code",
   "execution_count": 541,
   "metadata": {
    "collapsed": false
   },
   "outputs": [
    {
     "data": {
      "text/plain": [
       "(126.98024523159935, 128.55579510411653)"
      ]
     },
     "execution_count": 541,
     "metadata": {},
     "output_type": "execute_result"
    }
   ],
   "source": [
    "# testing functionality\n",
    "getAverageStrikeRates(517)"
   ]
  },
  {
   "cell_type": "code",
   "execution_count": 542,
   "metadata": {
    "collapsed": false
   },
   "outputs": [],
   "source": [
    "# Bowler Rating : Wickets/Run (Higher the Better)\n",
    "# Team 1: Batting First; Team 2: Fielding First\n",
    "\n",
    "def getInningsOneBowlers(match_deliveries):\n",
    "    return match_deliveries.loc[match_deliveries['inning'] == 1].bowler.unique()[0:4]\n",
    "\n",
    "def getInningsTwoBowlers(match_deliveries):\n",
    "    return match_deliveries.loc[match_deliveries['inning'] == 2].bowler.unique()[0:4]\n",
    "\n",
    "def getBowlerWPR(bowler, match_id):\n",
    "    balls = deliveries.loc[(deliveries['match_id'] < match_id) & (deliveries['bowler'] == bowler)]\n",
    "    total_runs = balls['total_runs'].sum()\n",
    "    total_wickets = balls.loc[balls['dismissal_kind'].isin(['caught', 'bowled', 'lbw', \\\n",
    "    'caught and bowled', 'stumped'])].shape[0]\n",
    "    if balls.shape[0] > 0:\n",
    "        return (total_wickets/total_runs) * 100\n",
    "    else:\n",
    "        return None\n",
    "\n",
    "def getTeamWPR(bowlers, match_id):\n",
    "    WPRs = []\n",
    "    for bowler in bowlers:\n",
    "        bwpr = getBowlerWPR(bowler, match_id)\n",
    "        if bwpr != None:\n",
    "            WPRs.append(bwpr)\n",
    "    return np.mean(WPRs)\n",
    "\n",
    "def getAverageWPR(match_id):\n",
    "    match_deliveries = getMatchDeliveriesDF(match_id)\n",
    "    innOneBowlers = getInningsOneBowlers(match_deliveries)\n",
    "    innTwoBowlers = getInningsTwoBowlers(match_deliveries)\n",
    "    teamOneWPR = getTeamWPR(innTwoBowlers, match_id)\n",
    "    teamTwoWPR = getTeamWPR(innOneBowlers, match_id)\n",
    "    return teamOneWPR, teamTwoWPR"
   ]
  },
  {
   "cell_type": "code",
   "execution_count": 543,
   "metadata": {
    "collapsed": false
   },
   "outputs": [
    {
     "data": {
      "text/plain": [
       "(2.7641806594085776, 4.4721111768026631)"
      ]
     },
     "execution_count": 543,
     "metadata": {},
     "output_type": "execute_result"
    }
   ],
   "source": [
    "# testing functionality\n",
    "getAverageWPR(517)"
   ]
  },
  {
   "cell_type": "code",
   "execution_count": 544,
   "metadata": {
    "collapsed": true
   },
   "outputs": [],
   "source": [
    "# MVP Score (Total number of Player of the Match awards in a squad)\n",
    "# Team 1: Batting First; Team 2: Fielding First\n",
    "\n",
    "def getAllInningsOneBatsmen(match_deliveries):\n",
    "    return match_deliveries.loc[match_deliveries['inning'] == 1].batsman.unique()\n",
    "\n",
    "def getAllInningsTwoBatsmen(match_deliveries):\n",
    "    return match_deliveries.loc[match_deliveries['inning'] == 2].batsman.unique()\n",
    "\n",
    "def getAllInningsOneBowlers(match_deliveries):\n",
    "    return match_deliveries.loc[match_deliveries['inning'] == 1].bowler.unique()\n",
    "\n",
    "def getAllInningsTwoBowlers(match_deliveries):\n",
    "    return match_deliveries.loc[match_deliveries['inning'] == 2].bowler.unique()\n",
    "\n",
    "def makeSquad(batsmen, bowlers):\n",
    "    p = []\n",
    "    p = np.append(p, batsmen)\n",
    "    for i in bowlers:\n",
    "        if i not in batsmen:\n",
    "            p = np.append(p, i)\n",
    "    return p\n",
    "\n",
    "def getPlayerMVPAwards(player, match_id):\n",
    "    return matches.loc[(matches['player_of_match'] == player) & (matches['id'] < match_id)].shape[0]\n",
    "\n",
    "def getTeamMVPAwards(squad, match_id):\n",
    "    num_awards = 0\n",
    "    for player in squad:\n",
    "        num_awards += getPlayerMVPAwards(player, match_id)\n",
    "    return num_awards\n",
    "\n",
    "def compareMVPAwards(match_id):\n",
    "    match_deliveries = getMatchDeliveriesDF(match_id)\n",
    "    innOneBatsmen = getAllInningsOneBatsmen(match_deliveries)\n",
    "    innTwoBatsmen = getAllInningsTwoBatsmen(match_deliveries)\n",
    "    innOneBowlers = getAllInningsOneBowlers(match_deliveries)\n",
    "    innTwoBowlers = getAllInningsTwoBowlers(match_deliveries)\n",
    "    teamOneSquad = makeSquad(innOneBatsmen, innTwoBowlers)\n",
    "    teamTwoSquad = makeSquad(innTwoBatsmen, innOneBowlers)\n",
    "    teamOneAwards = getTeamMVPAwards(teamOneSquad, match_id)\n",
    "    teamTwoAwards = getTeamMVPAwards(teamTwoSquad, match_id)\n",
    "    return teamOneAwards, teamTwoAwards"
   ]
  },
  {
   "cell_type": "code",
   "execution_count": 545,
   "metadata": {
    "collapsed": false
   },
   "outputs": [
    {
     "data": {
      "text/plain": [
       "(28, 52)"
      ]
     },
     "execution_count": 545,
     "metadata": {},
     "output_type": "execute_result"
    }
   ],
   "source": [
    "compareMVPAwards(517)"
   ]
  },
  {
   "cell_type": "code",
   "execution_count": 546,
   "metadata": {
    "collapsed": true
   },
   "outputs": [],
   "source": [
    "# Prints a comparison between two teams based on squad attributes\n",
    "def generateSquadRating(match_id):\n",
    "    gameday_teams = deliveries.loc[(deliveries['match_id'] == match_id)].batting_team.unique()\n",
    "    teamOne = gameday_teams[0]\n",
    "    teamTwo = gameday_teams[1]\n",
    "    teamOneSR, teamTwoSR = getAverageStrikeRates(match_id)\n",
    "    teamOneWPR, teamTwoWPR = getAverageWPR(match_id)\n",
    "    teamOneMVPs, teamTwoMVPs = compareMVPAwards(match_id)\n",
    "    print \"Comparing squads for \" + teamOne + \" vs \" + teamTwo\n",
    "    print \"\\nAverage Strike Rate for Batsmen in \" + str(teamOne) + \" : \" + str(teamOneSR)\n",
    "    print \"\\nAverage Strike Rate for Batsmen in \" + str(teamTwo) + \" : \" + str(teamTwoSR)\n",
    "    print \"\\nBowler Rating for \" + str(teamOne) + \" : \" + str(teamOneWPR)\n",
    "    print \"\\nBowler Rating for \" + str(teamTwo) + \" : \" + str(teamTwoWPR)\n",
    "    print \"\\nNumber of MVP Awards in \" + str(teamOne) + \" : \" + str(teamOneMVPs)\n",
    "    print \"\\nNumber of MVP Awards in \" + str(teamTwo) + \" : \" + str(teamTwoMVPs)"
   ]
  },
  {
   "cell_type": "code",
   "execution_count": 547,
   "metadata": {
    "collapsed": false
   },
   "outputs": [
    {
     "name": "stdout",
     "output_type": "stream",
     "text": [
      "Comparing squads for Mumbai Indians vs Chennai Super Kings\n",
      "\n",
      "Average Strike Rate for Batsmen in Mumbai Indians : 126.980245232\n",
      "\n",
      "Average Strike Rate for Batsmen in Chennai Super Kings : 128.555795104\n",
      "\n",
      "Bowler Rating for Mumbai Indians : 2.76418065941\n",
      "\n",
      "Bowler Rating for Chennai Super Kings : 4.4721111768\n",
      "\n",
      "Number of MVP Awards in Mumbai Indians : 28\n",
      "\n",
      "Number of MVP Awards in Chennai Super Kings : 52\n"
     ]
    }
   ],
   "source": [
    "generateSquadRating(517)"
   ]
  },
  {
   "cell_type": "code",
   "execution_count": 548,
   "metadata": {
    "collapsed": true
   },
   "outputs": [],
   "source": [
    "# Previous Encounters\n",
    "\n",
    "def getTeam1(match_id):\n",
    "    return matches.loc[matches[\"id\"] == match_id].team1.unique()\n",
    "\n",
    "def getTeam2(match_id):\n",
    "    return matches.loc[matches[\"id\"] == match_id].team2.unique()\n",
    "\n",
    "def getPreviousEncDF(match_id):\n",
    "    team1 = getTeam1(match_id)\n",
    "    team2 = getTeam2(match_id)\n",
    "    return matches.loc[(matches[\"id\"] < match_id) & (((matches[\"team1\"].isin(team1)) & (matches[\"team2\"].isin(team2))) | ((matches[\"team1\"].isin(team2)) & (matches[\"team2\"].isin(team1))))]\n",
    "\n",
    "def getTeamWBR(match_id, team):\n",
    "    WBR = 0\n",
    "    DF = getPreviousEncDF(match_id)\n",
    "    winnerDF = DF.loc[DF[\"winner\"] == team]\n",
    "    WBR = winnerDF['win_by_runs'].sum()    \n",
    "    return WBR\n",
    "\n",
    "\n",
    "def getTeamWBW(match_id, team):\n",
    "    WBW = 0 \n",
    "    DF = getPreviousEncDF(match_id)\n",
    "    winnerDF = DF.loc[DF[\"winner\"] == team]\n",
    "    WBW = winnerDF['win_by_wickets'].sum()\n",
    "    return WBW \n",
    "    \n",
    "def getTeamWinPerc(match_id):\n",
    "    dF = getPreviousEncDF(match_id)\n",
    "    timesPlayed = dF.shape[0]\n",
    "    team1 = getTeam1(match_id)[0].strip(\"[]\")\n",
    "    timesWon = dF.loc[dF[\"winner\"] == team1].shape[0]\n",
    "    if timesPlayed != 0:\n",
    "        winPerc = (timesWon/timesPlayed) * 100\n",
    "    else:\n",
    "        winPerc = 0\n",
    "    return winPerc\n",
    "\n",
    "def getBothTeamStats(match_id):\n",
    "    DF = getPreviousEncDF(match_id)\n",
    "    team1 = getTeam1(match_id)[0].strip(\"[]\")\n",
    "    team2 = getTeam2(match_id)[0].strip(\"[]\")\n",
    "    timesPlayed = DF.shape[0]\n",
    "    timesWon = DF.loc[DF[\"winner\"] == team1].shape[0]\n",
    "    WBRTeam1 = getTeamWBR(match_id, team1)\n",
    "    WBRTeam2 = getTeamWBR(match_id, team2)\n",
    "    WBWTeam1 = getTeamWBW(match_id, team1)\n",
    "    WBWTeam2 = getTeamWBW(match_id, team2)\n",
    "\n",
    "    print \"Out of {} times in the past {} have won {} times({}%) from {}\".format(timesPlayed, team1, timesWon, getTeamWinPerc(match_id), team2)\n",
    "    print \"{} won by {} total runs and {} total wickets.\".format(team1, WBRTeam1, WBWTeam1)\n",
    "    print \"{} won by {} total runs and {} total wickets.\".format(team2, WBRTeam2, WBWTeam2)\n"
   ]
  },
  {
   "cell_type": "code",
   "execution_count": 549,
   "metadata": {
    "collapsed": false
   },
   "outputs": [
    {
     "name": "stdout",
     "output_type": "stream",
     "text": [
      "Out of 21 times in the past Mumbai Indians have won 11 times(52.380952381%) from Chennai Super Kings\n",
      "Mumbai Indians won by 144 total runs and 30 total wickets.\n",
      "Chennai Super Kings won by 138 total runs and 31 total wickets.\n"
     ]
    }
   ],
   "source": [
    "#Testing functionality \n",
    "getBothTeamStats(517)"
   ]
  },
  {
   "cell_type": "code",
   "execution_count": 584,
   "metadata": {
    "collapsed": true
   },
   "outputs": [],
   "source": [
    "# Recent Form (Win Percentage of the 5 previous matches of a team in the same season)\n",
    "# Higher the better\n",
    "\n",
    "def getMatchYear(match_id):\n",
    "    return matches.loc[matches[\"id\"] == match_id].season.unique()\n",
    "\n",
    "def getTeam1DF(match_id, year):\n",
    "    team1 = getTeam1(match_id)\n",
    "    return matches.loc[(matches[\"id\"] < match_id) & (matches[\"season\"] == year) & ((matches[\"team1\"].isin(team1)) | (matches[\"team2\"].isin(team1)))].tail(3)\n",
    "\n",
    "def getTeam2DF(match_id, year):\n",
    "    team2 = getTeam2(match_id)\n",
    "    return matches.loc[(matches[\"id\"] < match_id) & (matches[\"season\"] == year) & ((matches[\"team1\"].isin(team2)) | (matches[\"team2\"].isin(team2)))].tail(3)\n",
    "\n",
    "def getTeamWinPercentage(match_id):\n",
    "    year = int(getMatchYear(match_id))\n",
    "    team1 = getTeam1(match_id)[0].strip(\"[]\")\n",
    "    team2 = getTeam2(match_id)[0].strip(\"[]\")\n",
    "    team1DF = getTeam1DF(match_id, year)\n",
    "    team2DF = getTeam2DF(match_id, year)\n",
    "    team1TotalMatches = team1DF.shape[0]\n",
    "    team1WinMatches = team1DF.loc[team1DF[\"winner\"] == team1].shape[0]\n",
    "    team2TotalMatches = team2DF.shape[0]\n",
    "    team2WinMatches = team2DF.loc[team2DF[\"winner\"] == team2].shape[0]\n",
    "    if (team1TotalMatches != 0) and (team2TotalMatches !=0):\n",
    "        winPercTeam1 = ((team1WinMatches / team1TotalMatches) * 100) \n",
    "        winPercTeam2 = ((team2WinMatches / team2TotalMatches) * 100) \n",
    "    elif (team1TotalMatches != 0) and (team2TotalMatches ==0):\n",
    "        winPercTeam1 = ((team1WinMatches / team1TotalMatches) * 100) \n",
    "        winPercTeam2 = 0\n",
    "    elif (team1TotalMatches == 0) and (team2TotalMatches !=0):\n",
    "        winPercTeam1 = 0\n",
    "        winPercTeam2 = ((team2WinMatches / team2TotalMatches) * 100) \n",
    "    else:\n",
    "        winPercTeam1 = 0\n",
    "        winPercTeam2 = 0\n",
    "    return winPercTeam1, winPercTeam2"
   ]
  },
  {
   "cell_type": "code",
   "execution_count": 585,
   "metadata": {
    "collapsed": false
   },
   "outputs": [
    {
     "data": {
      "text/plain": [
       "(66.66666666666666, 66.66666666666666)"
      ]
     },
     "execution_count": 585,
     "metadata": {},
     "output_type": "execute_result"
    }
   ],
   "source": [
    "getTeamWinPercentage(517)"
   ]
  },
  {
   "cell_type": "code",
   "execution_count": 586,
   "metadata": {
    "collapsed": true
   },
   "outputs": [],
   "source": [
    "#Function to implement all features\n",
    "def getAllFeatures(match_id):\n",
    "    generateSquadRating(match_id)\n",
    "    print (\"\\n\")\n",
    "    getBothTeamStats(match_id)\n",
    "    print(\"\\n\")\n",
    "    getTeamWinPercentage(match_id)\n"
   ]
  },
  {
   "cell_type": "code",
   "execution_count": 587,
   "metadata": {
    "collapsed": false
   },
   "outputs": [
    {
     "name": "stdout",
     "output_type": "stream",
     "text": [
      "Comparing squads for Mumbai Indians vs Chennai Super Kings\n",
      "\n",
      "Average Strike Rate for Batsmen in Mumbai Indians : 126.980245232\n",
      "\n",
      "Average Strike Rate for Batsmen in Chennai Super Kings : 128.555795104\n",
      "\n",
      "Bowler Rating for Mumbai Indians : 2.76418065941\n",
      "\n",
      "Bowler Rating for Chennai Super Kings : 4.4721111768\n",
      "\n",
      "Number of MVP Awards in Mumbai Indians : 28\n",
      "\n",
      "Number of MVP Awards in Chennai Super Kings : 52\n",
      "\n",
      "\n",
      "Out of 21 times in the past Mumbai Indians have won 11 times(52.380952381%) from Chennai Super Kings\n",
      "Mumbai Indians won by 144 total runs and 30 total wickets.\n",
      "Chennai Super Kings won by 138 total runs and 31 total wickets.\n",
      "\n",
      "\n"
     ]
    }
   ],
   "source": [
    "#Testing Functionality\n",
    "getAllFeatures(517)"
   ]
  },
  {
   "cell_type": "markdown",
   "metadata": {},
   "source": [
    "## Adding New Columns for Features in Matches DataFrame"
   ]
  },
  {
   "cell_type": "code",
   "execution_count": 588,
   "metadata": {
    "collapsed": false
   },
   "outputs": [
    {
     "name": "stderr",
     "output_type": "stream",
     "text": [
      "/home/soham/anaconda2/lib/python2.7/site-packages/ipykernel/__main__.py:11: SettingWithCopyWarning: \n",
      "A value is trying to be set on a copy of a slice from a DataFrame.\n",
      "Try using .loc[row_indexer,col_indexer] = value instead\n",
      "\n",
      "See the caveats in the documentation: http://pandas.pydata.org/pandas-docs/stable/indexing.html#indexing-view-versus-copy\n"
     ]
    }
   ],
   "source": [
    "# New Column for Difference of Average Strike rates (First Team SR - Second Team SR) \n",
    "# [Negative value means Second team is better]\n",
    "\n",
    "firstTeamSR = []\n",
    "secondTeamSR = []\n",
    "for i in matches['id'].unique():\n",
    "    P, Q = getAverageStrikeRates(i)\n",
    "    firstTeamSR.append(P), secondTeamSR.append(Q)\n",
    "firstSRSeries = pd.Series(firstTeamSR)\n",
    "secondSRSeries = pd.Series(secondTeamSR)\n",
    "matches[\"Avg_SR_Difference\"] = firstSRSeries.values - secondSRSeries.values "
   ]
  },
  {
   "cell_type": "code",
   "execution_count": 589,
   "metadata": {
    "collapsed": false
   },
   "outputs": [
    {
     "name": "stderr",
     "output_type": "stream",
     "text": [
      "/home/soham/anaconda2/lib/python2.7/site-packages/ipykernel/__main__.py:11: SettingWithCopyWarning: \n",
      "A value is trying to be set on a copy of a slice from a DataFrame.\n",
      "Try using .loc[row_indexer,col_indexer] = value instead\n",
      "\n",
      "See the caveats in the documentation: http://pandas.pydata.org/pandas-docs/stable/indexing.html#indexing-view-versus-copy\n"
     ]
    }
   ],
   "source": [
    "# New Column for Difference of Wickets Per Run (First Team WPR - Second Team WPR) \n",
    "# [Negative value means Second team is better]\n",
    "\n",
    "firstTeamWPR = []\n",
    "secondTeamWPR = []\n",
    "for i in matches['id'].unique():\n",
    "    R, S = getAverageWPR(i)\n",
    "    firstTeamWPR.append(R), secondTeamWPR.append(S)\n",
    "firstWPRSeries = pd.Series(firstTeamWPR)\n",
    "secondWPRSeries = pd.Series(secondTeamWPR)\n",
    "matches[\"Avg_WPR_Difference\"] = firstWPRSeries.values - secondWPRSeries.values "
   ]
  },
  {
   "cell_type": "code",
   "execution_count": 590,
   "metadata": {
    "collapsed": false
   },
   "outputs": [
    {
     "name": "stderr",
     "output_type": "stream",
     "text": [
      "/home/soham/anaconda2/lib/python2.7/site-packages/ipykernel/__main__.py:11: SettingWithCopyWarning: \n",
      "A value is trying to be set on a copy of a slice from a DataFrame.\n",
      "Try using .loc[row_indexer,col_indexer] = value instead\n",
      "\n",
      "See the caveats in the documentation: http://pandas.pydata.org/pandas-docs/stable/indexing.html#indexing-view-versus-copy\n"
     ]
    }
   ],
   "source": [
    "# New column for difference of MVP Awards \n",
    "# (Negative value means Second team is better)\n",
    "\n",
    "firstTeamMVP = []\n",
    "secondTeamMVP = []\n",
    "for i in matches['id'].unique():\n",
    "    T, U = compareMVPAwards(i)\n",
    "    firstTeamMVP.append(T), secondTeamMVP.append(U)\n",
    "firstMVPSeries = pd.Series(firstTeamMVP)\n",
    "secondMVPSeries = pd.Series(secondTeamMVP)\n",
    "matches[\"Total_MVP_Difference\"] = firstMVPSeries.values - secondMVPSeries.values "
   ]
  },
  {
   "cell_type": "code",
   "execution_count": 591,
   "metadata": {
    "collapsed": false
   },
   "outputs": [
    {
     "name": "stderr",
     "output_type": "stream",
     "text": [
      "/home/soham/anaconda2/lib/python2.7/site-packages/ipykernel/__main__.py:8: SettingWithCopyWarning: \n",
      "A value is trying to be set on a copy of a slice from a DataFrame.\n",
      "Try using .loc[row_indexer,col_indexer] = value instead\n",
      "\n",
      "See the caveats in the documentation: http://pandas.pydata.org/pandas-docs/stable/indexing.html#indexing-view-versus-copy\n"
     ]
    }
   ],
   "source": [
    "# New column for Win Percentage of Team 1 in previous encounters\n",
    "\n",
    "firstTeamWP = []\n",
    "for i in matches['id'].unique():\n",
    "    WP = getTeamWinPerc(i)\n",
    "    firstTeamWP.append(WP)\n",
    "firstWPSeries = pd.Series(firstTeamWP)\n",
    "matches[\"Prev_Enc_Team1_WinPerc\"] = firstWPSeries.values"
   ]
  },
  {
   "cell_type": "code",
   "execution_count": 592,
   "metadata": {
    "collapsed": false
   },
   "outputs": [
    {
     "name": "stderr",
     "output_type": "stream",
     "text": [
      "/home/soham/anaconda2/lib/python2.7/site-packages/ipykernel/__main__.py:11: SettingWithCopyWarning: \n",
      "A value is trying to be set on a copy of a slice from a DataFrame.\n",
      "Try using .loc[row_indexer,col_indexer] = value instead\n",
      "\n",
      "See the caveats in the documentation: http://pandas.pydata.org/pandas-docs/stable/indexing.html#indexing-view-versus-copy\n"
     ]
    }
   ],
   "source": [
    "# New column for Recent form(Win Percentage in the current season) of 1st Team compared to 2nd Team\n",
    "# (Negative means 2nd team has higher win percentage)\n",
    "\n",
    "firstTeamRF = []\n",
    "secondTeamRF = []\n",
    "for i in matches['id'].unique():\n",
    "    K, L = getTeamWinPercentage(i)\n",
    "    firstTeamRF.append(K), secondTeamRF.append(L)\n",
    "firstRFSeries = pd.Series(firstTeamRF)\n",
    "secondRFSeries = pd.Series(secondTeamRF)\n",
    "matches[\"Total_RF_Difference\"] = firstRFSeries.values - secondRFSeries.values "
   ]
  },
  {
   "cell_type": "code",
   "execution_count": 593,
   "metadata": {
    "collapsed": false
   },
   "outputs": [
    {
     "name": "stderr",
     "output_type": "stream",
     "text": [
      "/home/soham/anaconda2/lib/python2.7/site-packages/ipykernel/__main__.py:3: SettingWithCopyWarning: \n",
      "A value is trying to be set on a copy of a slice from a DataFrame.\n",
      "Try using .loc[row_indexer,col_indexer] = value instead\n",
      "\n",
      "See the caveats in the documentation: http://pandas.pydata.org/pandas-docs/stable/indexing.html#indexing-view-versus-copy\n",
      "  app.launch_new_instance()\n"
     ]
    }
   ],
   "source": [
    "#Create Column for Team 1 Winning Status (1 = Won, 0 = Lost)\n",
    "\n",
    "matches['team1Winning'] = np.where(matches['team1'] == matches['winner'], 1, 0)"
   ]
  },
  {
   "cell_type": "code",
   "execution_count": 594,
   "metadata": {
    "collapsed": false
   },
   "outputs": [
    {
     "data": {
      "text/html": [
       "<div>\n",
       "<table border=\"1\" class=\"dataframe\">\n",
       "  <thead>\n",
       "    <tr style=\"text-align: right;\">\n",
       "      <th></th>\n",
       "      <th>id</th>\n",
       "      <th>season</th>\n",
       "      <th>city</th>\n",
       "      <th>date</th>\n",
       "      <th>team1</th>\n",
       "      <th>team2</th>\n",
       "      <th>toss_winner</th>\n",
       "      <th>toss_decision</th>\n",
       "      <th>result</th>\n",
       "      <th>dl_applied</th>\n",
       "      <th>winner</th>\n",
       "      <th>win_by_runs</th>\n",
       "      <th>win_by_wickets</th>\n",
       "      <th>player_of_match</th>\n",
       "      <th>venue</th>\n",
       "      <th>umpire1</th>\n",
       "      <th>umpire2</th>\n",
       "      <th>umpire3</th>\n",
       "      <th>Avg_SR_Difference</th>\n",
       "      <th>Avg_WPR_Difference</th>\n",
       "      <th>Total_MVP_Difference</th>\n",
       "      <th>Prev_Enc_Team1_WinPerc</th>\n",
       "      <th>Total_RF_Difference</th>\n",
       "      <th>team1Winning</th>\n",
       "    </tr>\n",
       "  </thead>\n",
       "  <tbody>\n",
       "    <tr>\n",
       "      <th>510</th>\n",
       "      <td>511</td>\n",
       "      <td>2015</td>\n",
       "      <td>Mumbai</td>\n",
       "      <td>2015-05-16</td>\n",
       "      <td>Rajasthan Royals</td>\n",
       "      <td>Kolkata Knight Riders</td>\n",
       "      <td>Rajasthan Royals</td>\n",
       "      <td>bat</td>\n",
       "      <td>normal</td>\n",
       "      <td>0</td>\n",
       "      <td>Rajasthan Royals</td>\n",
       "      <td>9</td>\n",
       "      <td>0</td>\n",
       "      <td>SR Watson</td>\n",
       "      <td>Brabourne Stadium</td>\n",
       "      <td>RM Deshpande</td>\n",
       "      <td>RK Illingworth</td>\n",
       "      <td>NaN</td>\n",
       "      <td>-3.303823</td>\n",
       "      <td>-0.271935</td>\n",
       "      <td>-16</td>\n",
       "      <td>50.000000</td>\n",
       "      <td>0.000000</td>\n",
       "      <td>1</td>\n",
       "    </tr>\n",
       "    <tr>\n",
       "      <th>513</th>\n",
       "      <td>514</td>\n",
       "      <td>2015</td>\n",
       "      <td>Mumbai</td>\n",
       "      <td>2015-05-19</td>\n",
       "      <td>Mumbai Indians</td>\n",
       "      <td>Chennai Super Kings</td>\n",
       "      <td>Mumbai Indians</td>\n",
       "      <td>bat</td>\n",
       "      <td>normal</td>\n",
       "      <td>0</td>\n",
       "      <td>Mumbai Indians</td>\n",
       "      <td>25</td>\n",
       "      <td>0</td>\n",
       "      <td>KA Pollard</td>\n",
       "      <td>Wankhede Stadium</td>\n",
       "      <td>HDPK Dharmasena</td>\n",
       "      <td>RK Illingworth</td>\n",
       "      <td>NaN</td>\n",
       "      <td>6.315981</td>\n",
       "      <td>-0.617777</td>\n",
       "      <td>-24</td>\n",
       "      <td>50.000000</td>\n",
       "      <td>0.000000</td>\n",
       "      <td>1</td>\n",
       "    </tr>\n",
       "    <tr>\n",
       "      <th>514</th>\n",
       "      <td>515</td>\n",
       "      <td>2015</td>\n",
       "      <td>Pune</td>\n",
       "      <td>2015-05-20</td>\n",
       "      <td>Royal Challengers Bangalore</td>\n",
       "      <td>Rajasthan Royals</td>\n",
       "      <td>Royal Challengers Bangalore</td>\n",
       "      <td>bat</td>\n",
       "      <td>normal</td>\n",
       "      <td>0</td>\n",
       "      <td>Royal Challengers Bangalore</td>\n",
       "      <td>71</td>\n",
       "      <td>0</td>\n",
       "      <td>AB de Villiers</td>\n",
       "      <td>Maharashtra Cricket Association Stadium</td>\n",
       "      <td>AK Chaudhary</td>\n",
       "      <td>C Shamshuddin</td>\n",
       "      <td>NaN</td>\n",
       "      <td>-2.200375</td>\n",
       "      <td>0.969143</td>\n",
       "      <td>5</td>\n",
       "      <td>50.000000</td>\n",
       "      <td>0.000000</td>\n",
       "      <td>1</td>\n",
       "    </tr>\n",
       "    <tr>\n",
       "      <th>515</th>\n",
       "      <td>516</td>\n",
       "      <td>2015</td>\n",
       "      <td>Ranchi</td>\n",
       "      <td>2015-05-22</td>\n",
       "      <td>Royal Challengers Bangalore</td>\n",
       "      <td>Chennai Super Kings</td>\n",
       "      <td>Chennai Super Kings</td>\n",
       "      <td>field</td>\n",
       "      <td>normal</td>\n",
       "      <td>0</td>\n",
       "      <td>Chennai Super Kings</td>\n",
       "      <td>0</td>\n",
       "      <td>3</td>\n",
       "      <td>A Nehra</td>\n",
       "      <td>JSCA International Stadium Complex</td>\n",
       "      <td>AK Chaudhary</td>\n",
       "      <td>CB Gaffaney</td>\n",
       "      <td>NaN</td>\n",
       "      <td>-0.521025</td>\n",
       "      <td>1.039181</td>\n",
       "      <td>-23</td>\n",
       "      <td>38.888889</td>\n",
       "      <td>33.333333</td>\n",
       "      <td>0</td>\n",
       "    </tr>\n",
       "    <tr>\n",
       "      <th>516</th>\n",
       "      <td>517</td>\n",
       "      <td>2015</td>\n",
       "      <td>Kolkata</td>\n",
       "      <td>2015-05-24</td>\n",
       "      <td>Mumbai Indians</td>\n",
       "      <td>Chennai Super Kings</td>\n",
       "      <td>Chennai Super Kings</td>\n",
       "      <td>field</td>\n",
       "      <td>normal</td>\n",
       "      <td>0</td>\n",
       "      <td>Mumbai Indians</td>\n",
       "      <td>41</td>\n",
       "      <td>0</td>\n",
       "      <td>RG Sharma</td>\n",
       "      <td>Eden Gardens</td>\n",
       "      <td>HDPK Dharmasena</td>\n",
       "      <td>RK Illingworth</td>\n",
       "      <td>NaN</td>\n",
       "      <td>-1.575550</td>\n",
       "      <td>-1.707931</td>\n",
       "      <td>-24</td>\n",
       "      <td>52.380952</td>\n",
       "      <td>0.000000</td>\n",
       "      <td>1</td>\n",
       "    </tr>\n",
       "  </tbody>\n",
       "</table>\n",
       "</div>"
      ],
      "text/plain": [
       "      id  season     city        date                        team1                  team2                  toss_winner toss_decision  result  dl_applied                       winner  win_by_runs  win_by_wickets player_of_match                                    venue          umpire1         umpire2  umpire3  Avg_SR_Difference  Avg_WPR_Difference  Total_MVP_Difference  Prev_Enc_Team1_WinPerc  Total_RF_Difference  team1Winning\n",
       "510  511    2015   Mumbai  2015-05-16             Rajasthan Royals  Kolkata Knight Riders             Rajasthan Royals           bat  normal           0             Rajasthan Royals            9               0       SR Watson                        Brabourne Stadium     RM Deshpande  RK Illingworth      NaN          -3.303823           -0.271935                   -16               50.000000             0.000000             1\n",
       "513  514    2015   Mumbai  2015-05-19               Mumbai Indians    Chennai Super Kings               Mumbai Indians           bat  normal           0               Mumbai Indians           25               0      KA Pollard                         Wankhede Stadium  HDPK Dharmasena  RK Illingworth      NaN           6.315981           -0.617777                   -24               50.000000             0.000000             1\n",
       "514  515    2015     Pune  2015-05-20  Royal Challengers Bangalore       Rajasthan Royals  Royal Challengers Bangalore           bat  normal           0  Royal Challengers Bangalore           71               0  AB de Villiers  Maharashtra Cricket Association Stadium     AK Chaudhary   C Shamshuddin      NaN          -2.200375            0.969143                     5               50.000000             0.000000             1\n",
       "515  516    2015   Ranchi  2015-05-22  Royal Challengers Bangalore    Chennai Super Kings          Chennai Super Kings         field  normal           0          Chennai Super Kings            0               3         A Nehra       JSCA International Stadium Complex     AK Chaudhary     CB Gaffaney      NaN          -0.521025            1.039181                   -23               38.888889            33.333333             0\n",
       "516  517    2015  Kolkata  2015-05-24               Mumbai Indians    Chennai Super Kings          Chennai Super Kings         field  normal           0               Mumbai Indians           41               0       RG Sharma                             Eden Gardens  HDPK Dharmasena  RK Illingworth      NaN          -1.575550           -1.707931                   -24               52.380952             0.000000             1"
      ]
     },
     "execution_count": 594,
     "metadata": {},
     "output_type": "execute_result"
    }
   ],
   "source": [
    "#Testing \n",
    "matches.tail()"
   ]
  },
  {
   "cell_type": "markdown",
   "metadata": {},
   "source": [
    "## Visualizations for Features vs. Response"
   ]
  },
  {
   "cell_type": "code",
   "execution_count": 595,
   "metadata": {
    "collapsed": false
   },
   "outputs": [
    {
     "data": {
      "text/plain": [
       "<matplotlib.axes._subplots.AxesSubplot at 0x7efc14137b90>"
      ]
     },
     "execution_count": 595,
     "metadata": {},
     "output_type": "execute_result"
    },
    {
     "data": {
      "image/png": "[encoded data removed]",
      "text/plain": [
       "<matplotlib.figure.Figure at 0x7efc14298fd0>"
      ]
     },
     "metadata": {},
     "output_type": "display_data"
    }
   ],
   "source": [
    "matches.boxplot(column = 'Avg_SR_Difference', by='team1Winning', showfliers= False)"
   ]
  },
  {
   "cell_type": "code",
   "execution_count": 596,
   "metadata": {
    "collapsed": false
   },
   "outputs": [
    {
     "data": {
      "text/plain": [
       "<matplotlib.axes._subplots.AxesSubplot at 0x7efc140768d0>"
      ]
     },
     "execution_count": 596,
     "metadata": {},
     "output_type": "execute_result"
    },
    {
     "data": {
      "image/png": "[encoded data removed]",
      "text/plain": [
       "<matplotlib.figure.Figure at 0x7efbf7716d90>"
      ]
     },
     "metadata": {},
     "output_type": "display_data"
    }
   ],
   "source": [
    "matches.boxplot(column = 'Avg_WPR_Difference', by='team1Winning', showfliers= False)"
   ]
  },
  {
   "cell_type": "code",
   "execution_count": 597,
   "metadata": {
    "collapsed": false
   },
   "outputs": [
    {
     "data": {
      "text/plain": [
       "<matplotlib.axes._subplots.AxesSubplot at 0x7efc13f5b290>"
      ]
     },
     "execution_count": 597,
     "metadata": {},
     "output_type": "execute_result"
    },
    {
     "data": {
      "image/png": "[encoded data removed]",
      "text/plain": [
       "<matplotlib.figure.Figure at 0x7efc13eeb110>"
      ]
     },
     "metadata": {},
     "output_type": "display_data"
    }
   ],
   "source": [
    "matches.boxplot(column = 'Total_MVP_Difference', by='team1Winning', showfliers= False)"
   ]
  },
  {
   "cell_type": "code",
   "execution_count": 598,
   "metadata": {
    "collapsed": false
   },
   "outputs": [
    {
     "data": {
      "text/plain": [
       "<matplotlib.axes._subplots.AxesSubplot at 0x7efc13f4e7d0>"
      ]
     },
     "execution_count": 598,
     "metadata": {},
     "output_type": "execute_result"
    },
    {
     "data": {
      "image/png": "[encoded data removed]",
      "text/plain": [
       "<matplotlib.figure.Figure at 0x7efc13eaef10>"
      ]
     },
     "metadata": {},
     "output_type": "display_data"
    }
   ],
   "source": [
    "matches.boxplot(column = 'Prev_Enc_Team1_WinPerc', by='team1Winning', showfliers= False)"
   ]
  },
  {
   "cell_type": "code",
   "execution_count": 599,
   "metadata": {
    "collapsed": false
   },
   "outputs": [
    {
     "data": {
      "text/plain": [
       "<matplotlib.axes._subplots.AxesSubplot at 0x7efc13eeb050>"
      ]
     },
     "execution_count": 599,
     "metadata": {},
     "output_type": "execute_result"
    },
    {
     "data": {
      "image/png": "[encoded data removed]",
      "text/plain": [
       "<matplotlib.figure.Figure at 0x7efc1321be90>"
      ]
     },
     "metadata": {},
     "output_type": "display_data"
    }
   ],
   "source": [
    "matches.boxplot(column = 'Total_RF_Difference', by='team1Winning', showfliers= False)"
   ]
  },
  {
   "cell_type": "markdown",
   "metadata": {},
   "source": [
    "## Predictions"
   ]
  },
  {
   "cell_type": "code",
   "execution_count": 600,
   "metadata": {
    "collapsed": false
   },
   "outputs": [],
   "source": [
    "from sklearn.linear_model import LogisticRegression\n",
    "from sklearn.neighbors import KNeighborsClassifier\n",
    "from sklearn import svm\n",
    "from sklearn.ensemble import RandomForestClassifier\n",
    "from sklearn.naive_bayes import GaussianNB\n",
    "from sklearn.cross_validation import train_test_split\n",
    "from sklearn import metrics\n",
    "from patsy import dmatrices"
   ]
  },
  {
   "cell_type": "code",
   "execution_count": 628,
   "metadata": {
    "collapsed": false
   },
   "outputs": [],
   "source": [
    "y, X = dmatrices('team1Winning ~ 0 + Avg_SR_Difference + Avg_WPR_Difference + Total_MVP_Difference + Prev_Enc_Team1_WinPerc + \\\n",
    "                  Total_RF_Difference', matches, return_type=\"dataframe\")\n",
    "y_arr = np.ravel(y)"
   ]
  },
  {
   "cell_type": "markdown",
   "metadata": {},
   "source": [
    "### Training and Testing on Entire Data"
   ]
  },
  {
   "cell_type": "code",
   "execution_count": 629,
   "metadata": {
    "collapsed": false
   },
   "outputs": [
    {
     "name": "stdout",
     "output_type": "stream",
     "text": [
      "Accuracy is 57.4923547401 %\n"
     ]
    }
   ],
   "source": [
    "# instantiate a logistic regression model, and fit with X and y\n",
    "model = LogisticRegression()\n",
    "model = model.fit(X, y_arr)\n",
    "# check the accuracy on the training set\n",
    "print \"Accuracy is\", model.score(X, y_arr)*100, \"%\""
   ]
  },
  {
   "cell_type": "markdown",
   "metadata": {},
   "source": [
    "### Splitting train and test using train_test_split"
   ]
  },
  {
   "cell_type": "code",
   "execution_count": 630,
   "metadata": {
    "collapsed": true
   },
   "outputs": [],
   "source": [
    "# evaluate the model by splitting into train and test sets\n",
    "X_train, X_test, y_train, y_test = train_test_split(X, y_arr, random_state = 0)"
   ]
  },
  {
   "cell_type": "code",
   "execution_count": 631,
   "metadata": {
    "collapsed": false
   },
   "outputs": [
    {
     "name": "stdout",
     "output_type": "stream",
     "text": [
      "Accuracy is  58.5365853659 %\n"
     ]
    }
   ],
   "source": [
    "# Logistic Regression on train_test_split\n",
    "model2 = LogisticRegression()\n",
    "model2.fit(X_train, y_train)\n",
    "# predict class labels for the test set\n",
    "predicted = model2.predict(X_test)\n",
    "# generate evaluation metrics\n",
    "print \"Accuracy is \", metrics.accuracy_score(y_test, predicted)*100, \"%\""
   ]
  },
  {
   "cell_type": "code",
   "execution_count": 632,
   "metadata": {
    "collapsed": false
   },
   "outputs": [
    {
     "data": {
      "text/plain": [
       "[<matplotlib.lines.Line2D at 0x7efbf5ed4910>]"
      ]
     },
     "execution_count": 632,
     "metadata": {},
     "output_type": "execute_result"
    },
    {
     "data": {
      "image/png": "[encoded data removed]",
      "text/plain": [
       "<matplotlib.figure.Figure at 0x7efc12e02390>"
      ]
     },
     "metadata": {},
     "output_type": "display_data"
    }
   ],
   "source": [
    "# KNN Classification on train_test_split\n",
    "k_range = list(range(1, 61))\n",
    "k_score = []\n",
    "for k in k_range:\n",
    "    knn = KNeighborsClassifier(n_neighbors = k)\n",
    "    knn.fit(X_train, y_train)\n",
    "    y_pred = knn.predict(X_test)\n",
    "    k_score.append(metrics.accuracy_score(y_test, y_pred))\n",
    "plt.plot(k_range, k_score)"
   ]
  },
  {
   "cell_type": "code",
   "execution_count": 633,
   "metadata": {
    "collapsed": false
   },
   "outputs": [
    {
     "name": "stdout",
     "output_type": "stream",
     "text": [
      "Accuracy is  64.6341463415 %\n"
     ]
    }
   ],
   "source": [
    "# Best values of k in train_test_split\n",
    "knn = KNeighborsClassifier(n_neighbors = 50)\n",
    "knn.fit(X_train, y_train)\n",
    "y_pred = knn.predict(X_test)\n",
    "print \"Accuracy is \", metrics.accuracy_score(y_test, y_pred)*100, \"%\" "
   ]
  },
  {
   "cell_type": "markdown",
   "metadata": {},
   "source": [
    "### Splitting Training Set (2008-2013) and Test Set (2013-2015) based on Seasons"
   ]
  },
  {
   "cell_type": "code",
   "execution_count": 634,
   "metadata": {
    "collapsed": false
   },
   "outputs": [],
   "source": [
    "X_timetrain = X.loc[X.index < 398]\n",
    "Y_timetrain = y.loc[y.index < 398]\n",
    "Y_timetrain_arr = np.ravel(Y_timetrain)\n",
    "X_timetest = X.loc[X.index >= 398]\n",
    "Y_timetest = y.loc[y.index >= 398]\n",
    "Y_timetest_arr = np.ravel(Y_timetest)"
   ]
  },
  {
   "cell_type": "code",
   "execution_count": 635,
   "metadata": {
    "collapsed": false
   },
   "outputs": [
    {
     "name": "stdout",
     "output_type": "stream",
     "text": [
      "Accuracy is  52.8735632184 %\n"
     ]
    }
   ],
   "source": [
    "# Logistic Regression on time-based split sets\n",
    "model3 = LogisticRegression()\n",
    "model3.fit(X_timetrain, Y_timetrain_arr)\n",
    "timepredicted = model3.predict(X_timetest)\n",
    "print \"Accuracy is \", metrics.accuracy_score(Y_timetest_arr, timepredicted)*100, \"%\""
   ]
  },
  {
   "cell_type": "code",
   "execution_count": 636,
   "metadata": {
    "collapsed": false
   },
   "outputs": [
    {
     "data": {
      "text/plain": [
       "[<matplotlib.lines.Line2D at 0x7efbf5dbe8d0>]"
      ]
     },
     "execution_count": 636,
     "metadata": {},
     "output_type": "execute_result"
    },
    {
     "data": {
      "image/png": "[encoded data removed]",
      "text/plain": [
       "<matplotlib.figure.Figure at 0x7efbf5e5e050>"
      ]
     },
     "metadata": {},
     "output_type": "display_data"
    }
   ],
   "source": [
    "# KNN Classification on time-based split sets\n",
    "k_range = list(range(1, 61))\n",
    "k_score = []\n",
    "for k in k_range:\n",
    "    knn = KNeighborsClassifier(n_neighbors = k)\n",
    "    knn.fit(X_timetrain, Y_timetrain_arr)\n",
    "    y_pred = knn.predict(X_timetest)\n",
    "    k_score.append(metrics.accuracy_score(Y_timetest_arr, y_pred))\n",
    "plt.plot(k_range, k_score)  "
   ]
  },
  {
   "cell_type": "code",
   "execution_count": 610,
   "metadata": {
    "collapsed": false
   },
   "outputs": [
    {
     "name": "stdout",
     "output_type": "stream",
     "text": [
      "Accuracy is  64.367816092 %\n"
     ]
    }
   ],
   "source": [
    "# Best values of k in time-based split data\n",
    "knn1 = KNeighborsClassifier(n_neighbors = 31)\n",
    "knn1.fit(X_timetrain, Y_timetrain_arr)\n",
    "y_pred = knn1.predict(X_timetest)\n",
    "print \"Accuracy is \", metrics.accuracy_score(Y_timetest_arr, y_pred)*100, \"%\""
   ]
  },
  {
   "cell_type": "markdown",
   "metadata": {},
   "source": [
    "### Support Vector Machines"
   ]
  },
  {
   "cell_type": "code",
   "execution_count": 611,
   "metadata": {
    "collapsed": false
   },
   "outputs": [
    {
     "name": "stdout",
     "output_type": "stream",
     "text": [
      "Accuracy is  45.9770114943 %\n"
     ]
    }
   ],
   "source": [
    "clf = svm.SVC(gamma=0.001, C=10)\n",
    "clf.fit(X_timetrain, Y_timetrain_arr)\n",
    "clf_pred = clf.predict(X_timetest)\n",
    "print \"Accuracy is \", metrics.accuracy_score(Y_timetest_arr, clf_pred)*100, \"%\""
   ]
  },
  {
   "cell_type": "markdown",
   "metadata": {},
   "source": [
    "### Random Forests"
   ]
  },
  {
   "cell_type": "code",
   "execution_count": 612,
   "metadata": {
    "collapsed": false
   },
   "outputs": [
    {
     "name": "stdout",
     "output_type": "stream",
     "text": [
      "Accuracy is  54.0229885057 %\n"
     ]
    }
   ],
   "source": [
    "rfc = RandomForestClassifier(n_jobs = -1, random_state = 1)\n",
    "rfc.fit(X_timetrain, Y_timetrain_arr)\n",
    "rfc_pred = rfc.predict(X_timetest)\n",
    "print \"Accuracy is \", metrics.accuracy_score(Y_timetest_arr, rfc_pred)*100, \"%\""
   ]
  },
  {
   "cell_type": "code",
   "execution_count": 613,
   "metadata": {
    "collapsed": false
   },
   "outputs": [
    {
     "name": "stdout",
     "output_type": "stream",
     "text": [
      "Feature Importance according to Random Forests Model\n",
      "\n",
      "Avg_SR_Difference : 0.330684992918\n",
      "Avg_WPR_Difference : 0.21317276792\n",
      "Total_MVP_Difference : 0.191778034092\n",
      "Prev_Enc_Team1_WinPerc : 0.141146504197\n",
      "Total_RF_Difference : 0.123217700874\n"
     ]
    }
   ],
   "source": [
    "fi = zip(X.columns, rfc.feature_importances_)\n",
    "print \"Feature Importance according to Random Forests Model\\n\"\n",
    "for i in fi:\n",
    "    print i[0], \":\", i[1]"
   ]
  },
  {
   "cell_type": "markdown",
   "metadata": {},
   "source": [
    "### Naive Bayes Classifier"
   ]
  },
  {
   "cell_type": "code",
   "execution_count": 614,
   "metadata": {
    "collapsed": false
   },
   "outputs": [
    {
     "name": "stdout",
     "output_type": "stream",
     "text": [
      "Accuracy is  55.1724137931 %\n"
     ]
    }
   ],
   "source": [
    "gclf = GaussianNB()\n",
    "gclf.fit(X_timetrain, Y_timetrain_arr)\n",
    "gclf_pred = gclf.predict(X_timetest)\n",
    "print \"Accuracy is \", metrics.accuracy_score(Y_timetest_arr, gclf_pred) *100, \"%\""
   ]
  },
  {
   "cell_type": "markdown",
   "metadata": {},
   "source": [
    "### Cross Validation"
   ]
  },
  {
   "cell_type": "code",
   "execution_count": 615,
   "metadata": {
    "collapsed": true
   },
   "outputs": [],
   "source": [
    "from sklearn.cross_validation import cross_val_score"
   ]
  },
  {
   "cell_type": "code",
   "execution_count": 616,
   "metadata": {
    "collapsed": false
   },
   "outputs": [
    {
     "data": {
      "text/plain": [
       "array([ 0.48484848,  0.57575758,  0.60606061,  0.48484848,  0.51515152,\n",
       "        0.66666667,  0.48484848,  0.45454545,  0.5       ,  0.41935484])"
      ]
     },
     "execution_count": 616,
     "metadata": {},
     "output_type": "execute_result"
    }
   ],
   "source": [
    "rfc = LogisticRegression()\n",
    "scores = cross_val_score(rfc, X, y_arr, cv=10, scoring='accuracy')\n",
    "scores"
   ]
  },
  {
   "cell_type": "code",
   "execution_count": 617,
   "metadata": {
    "collapsed": false
   },
   "outputs": [
    {
     "data": {
      "text/plain": [
       "[<matplotlib.lines.Line2D at 0x7efc12e36250>]"
      ]
     },
     "execution_count": 617,
     "metadata": {},
     "output_type": "execute_result"
    },
    {
     "data": {
      "image/png": "[encoded data removed]",
      "text/plain": [
       "<matplotlib.figure.Figure at 0x7efc12e9b7d0>"
      ]
     },
     "metadata": {},
     "output_type": "display_data"
    }
   ],
   "source": [
    "k_range = list(range(1, 61))\n",
    "k_scores = []\n",
    "for k in k_range:\n",
    "    knn = KNeighborsClassifier(n_neighbors=k)\n",
    "    scores = cross_val_score(knn, X, y_arr, cv=10, scoring='accuracy')\n",
    "    k_scores.append(scores.mean())\n",
    "plt.plot(k_range, k_scores)"
   ]
  }
 ],
 "metadata": {
  "kernelspec": {
   "display_name": "Python 2",
   "language": "python",
   "name": "python2"
  },
  "language_info": {
   "codemirror_mode": {
    "name": "ipython",
    "version": 2
   },
   "file_extension": ".py",
   "mimetype": "text/x-python",
   "name": "python",
   "nbconvert_exporter": "python",
   "pygments_lexer": "ipython2",
   "version": "2.7.13"
  }
 },
 "nbformat": 4,
 "nbformat_minor": 2
}
