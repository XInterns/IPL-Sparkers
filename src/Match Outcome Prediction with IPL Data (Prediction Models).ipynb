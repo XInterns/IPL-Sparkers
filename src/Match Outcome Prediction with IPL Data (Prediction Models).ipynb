{
 "cells": [
  {
   "cell_type": "markdown",
   "metadata": {},
   "source": [
    "# Predicting the Outcome of Cricket Matches"
   ]
  },
  {
   "cell_type": "markdown",
   "metadata": {},
   "source": [
    "### Prediction Model\n",
    "\n",
    "  * Logistic Regression using sklearn\n",
    "  * K-Nearest Neighbors using sklearn\n",
    "  "
   ]
  },
  {
   "cell_type": "code",
   "execution_count": 2,
   "metadata": {
    "collapsed": false
   },
   "outputs": [
    {
     "name": "stderr",
     "output_type": "stream",
     "text": [
      "/home/soham/anaconda2/lib/python2.7/site-packages/sklearn/cross_validation.py:44: DeprecationWarning: This module was deprecated in version 0.18 in favor of the model_selection module into which all the refactored classes and functions are moved. Also note that the interface of the new CV iterators are different from that of this module. This module will be removed in 0.20.\n",
      "  \"This module will be removed in 0.20.\", DeprecationWarning)\n"
     ]
    }
   ],
   "source": [
    "%matplotlib inline \n",
    "import numpy as np # imports a fast numerical programming library\n",
    "import matplotlib.pyplot as plt #sets up plotting under plt\n",
    "import pandas as pd #lets us handle data as dataframes\n",
    "#sets up pandas table display\n",
    "pd.set_option('display.width', 500)\n",
    "pd.set_option('display.max_columns', 100)\n",
    "pd.set_option('display.notebook_repr_html', True)\n",
    "import seaborn as sns\n",
    "sns.set(style=\"whitegrid\", color_codes=True)\n",
    "from __future__ import division\n",
    "from sklearn.linear_model import LogisticRegression\n",
    "from sklearn.neighbors import KNeighborsClassifier\n",
    "from sklearn import svm\n",
    "from sklearn.ensemble import RandomForestClassifier\n",
    "from sklearn.naive_bayes import GaussianNB\n",
    "from sklearn.cross_validation import train_test_split\n",
    "from sklearn import metrics\n",
    "from patsy import dmatrices"
   ]
  },
  {
   "cell_type": "code",
   "execution_count": 3,
   "metadata": {
    "collapsed": false,
    "scrolled": true
   },
   "outputs": [],
   "source": [
    "matches = pd.read_csv(\"../data/matcheswithfeatures.csv\", index_col = 0)"
   ]
  },
  {
   "cell_type": "code",
   "execution_count": 4,
   "metadata": {
    "collapsed": false
   },
   "outputs": [],
   "source": [
    "y, X = dmatrices('team1Winning ~ 0 + Avg_SR_Difference + Avg_WPR_Difference + Total_MVP_Difference + Prev_Enc_Team1_WinPerc + \\\n",
    "                  Total_RF_Difference', matches, return_type=\"dataframe\")\n",
    "y_arr = np.ravel(y)"
   ]
  },
  {
   "cell_type": "markdown",
   "metadata": {},
   "source": [
    "### Training and Testing on Entire Data"
   ]
  },
  {
   "cell_type": "code",
   "execution_count": 5,
   "metadata": {
    "collapsed": false
   },
   "outputs": [
    {
     "name": "stdout",
     "output_type": "stream",
     "text": [
      "Accuracy is 57.4923547401 %\n"
     ]
    }
   ],
   "source": [
    "# instantiate a logistic regression model, and fit with X and y\n",
    "model = LogisticRegression()\n",
    "model = model.fit(X, y_arr)\n",
    "# check the accuracy on the training set\n",
    "print \"Accuracy is\", model.score(X, y_arr)*100, \"%\""
   ]
  },
  {
   "cell_type": "markdown",
   "metadata": {},
   "source": [
    "### Splitting train and test using train_test_split"
   ]
  },
  {
   "cell_type": "code",
   "execution_count": null,
   "metadata": {
    "collapsed": true
   },
   "outputs": [],
   "source": [
    "# evaluate the model by splitting into train and test sets\n",
    "X_train, X_test, y_train, y_test = train_test_split(X, y_arr, random_state = 0)"
   ]
  },
  {
   "cell_type": "code",
   "execution_count": null,
   "metadata": {
    "collapsed": true
   },
   "outputs": [],
   "source": [
    "# Logistic Regression on train_test_split\n",
    "model2 = LogisticRegression()\n",
    "model2.fit(X_train, y_train)\n",
    "# predict class labels for the test set\n",
    "predicted = model2.predict(X_test)\n",
    "# generate evaluation metrics\n",
    "print \"Accuracy is \", metrics.accuracy_score(y_test, predicted)*100, \"%\""
   ]
  },
  {
   "cell_type": "code",
   "execution_count": null,
   "metadata": {
    "collapsed": true
   },
   "outputs": [],
   "source": [
    "# KNN Classification on train_test_split\n",
    "k_range = list(range(1, 61))\n",
    "k_score = []\n",
    "for k in k_range:\n",
    "    knn = KNeighborsClassifier(n_neighbors = k)\n",
    "    knn.fit(X_train, y_train)\n",
    "    y_pred = knn.predict(X_test)\n",
    "    k_score.append(metrics.accuracy_score(y_test, y_pred))\n",
    "plt.plot(k_range, k_score)"
   ]
  },
  {
   "cell_type": "code",
   "execution_count": null,
   "metadata": {
    "collapsed": true
   },
   "outputs": [],
   "source": [
    "# Best values of k in train_test_split\n",
    "knn = KNeighborsClassifier(n_neighbors = 50)\n",
    "knn.fit(X_train, y_train)\n",
    "y_pred = knn.predict(X_test)\n",
    "print \"Accuracy is \", metrics.accuracy_score(y_test, y_pred)*100, \"%\" "
   ]
  },
  {
   "cell_type": "markdown",
   "metadata": {},
   "source": [
    "### Splitting Training Set (2008-2013) and Test Set (2013-2015) based on Seasons"
   ]
  },
  {
   "cell_type": "code",
   "execution_count": null,
   "metadata": {
    "collapsed": true
   },
   "outputs": [],
   "source": [
    "X_timetrain = X.loc[X.index < 398]\n",
    "Y_timetrain = y.loc[y.index < 398]\n",
    "Y_timetrain_arr = np.ravel(Y_timetrain)\n",
    "X_timetest = X.loc[X.index >= 398]\n",
    "Y_timetest = y.loc[y.index >= 398]\n",
    "Y_timetest_arr = np.ravel(Y_timetest)"
   ]
  },
  {
   "cell_type": "code",
   "execution_count": null,
   "metadata": {
    "collapsed": true
   },
   "outputs": [],
   "source": [
    "# Logistic Regression on time-based split sets\n",
    "model3 = LogisticRegression()\n",
    "model3.fit(X_timetrain, Y_timetrain_arr)\n",
    "timepredicted = model3.predict(X_timetest)\n",
    "print \"Accuracy is \", metrics.accuracy_score(Y_timetest_arr, timepredicted)*100, \"%\""
   ]
  },
  {
   "cell_type": "code",
   "execution_count": null,
   "metadata": {
    "collapsed": true
   },
   "outputs": [],
   "source": [
    "# KNN Classification on time-based split sets\n",
    "k_range = list(range(1, 61))\n",
    "k_score = []\n",
    "for k in k_range:\n",
    "    knn = KNeighborsClassifier(n_neighbors = k)\n",
    "    knn.fit(X_timetrain, Y_timetrain_arr)\n",
    "    y_pred = knn.predict(X_timetest)\n",
    "    k_score.append(metrics.accuracy_score(Y_timetest_arr, y_pred))\n",
    "plt.plot(k_range, k_score)  "
   ]
  },
  {
   "cell_type": "code",
   "execution_count": null,
   "metadata": {
    "collapsed": true
   },
   "outputs": [],
   "source": [
    "# Best values of k in time-based split data\n",
    "knn1 = KNeighborsClassifier(n_neighbors = 31)\n",
    "knn1.fit(X_timetrain, Y_timetrain_arr)\n",
    "y_pred = knn1.predict(X_timetest)\n",
    "print \"Accuracy is \", metrics.accuracy_score(Y_timetest_arr, y_pred)*100, \"%\""
   ]
  },
  {
   "cell_type": "markdown",
   "metadata": {},
   "source": [
    "### Support Vector Machines"
   ]
  },
  {
   "cell_type": "code",
   "execution_count": null,
   "metadata": {
    "collapsed": true
   },
   "outputs": [],
   "source": [
    "clf = svm.SVC(gamma=0.001, C=10)\n",
    "clf.fit(X_timetrain, Y_timetrain_arr)\n",
    "clf_pred = clf.predict(X_timetest)\n",
    "print \"Accuracy is \", metrics.accuracy_score(Y_timetest_arr, clf_pred)*100, \"%\""
   ]
  },
  {
   "cell_type": "markdown",
   "metadata": {},
   "source": [
    "### Random Forests"
   ]
  },
  {
   "cell_type": "code",
   "execution_count": null,
   "metadata": {
    "collapsed": true
   },
   "outputs": [],
   "source": [
    "rfc = RandomForestClassifier(n_jobs = -1, random_state = 1)\n",
    "rfc.fit(X_timetrain, Y_timetrain_arr)\n",
    "rfc_pred = rfc.predict(X_timetest)\n",
    "print \"Accuracy is \", metrics.accuracy_score(Y_timetest_arr, rfc_pred)*100, \"%\""
   ]
  },
  {
   "cell_type": "code",
   "execution_count": null,
   "metadata": {
    "collapsed": true
   },
   "outputs": [],
   "source": [
    "fi = zip(X.columns, rfc.feature_importances_)\n",
    "print \"Feature Importance according to Random Forests Model\\n\"\n",
    "for i in fi:\n",
    "    print i[0], \":\", i[1]"
   ]
  },
  {
   "cell_type": "markdown",
   "metadata": {},
   "source": [
    "### Naive Bayes Classifier"
   ]
  },
  {
   "cell_type": "code",
   "execution_count": null,
   "metadata": {
    "collapsed": true
   },
   "outputs": [],
   "source": [
    "gclf = GaussianNB()\n",
    "gclf.fit(X_timetrain, Y_timetrain_arr)\n",
    "gclf_pred = gclf.predict(X_timetest)\n",
    "print \"Accuracy is \", metrics.accuracy_score(Y_timetest_arr, gclf_pred) *100, \"%\""
   ]
  },
  {
   "cell_type": "markdown",
   "metadata": {},
   "source": [
    "### Cross Validation"
   ]
  },
  {
   "cell_type": "code",
   "execution_count": null,
   "metadata": {
    "collapsed": true
   },
   "outputs": [],
   "source": [
    "from sklearn.cross_validation import cross_val_score"
   ]
  },
  {
   "cell_type": "code",
   "execution_count": null,
   "metadata": {
    "collapsed": true
   },
   "outputs": [],
   "source": [
    "rfc = LogisticRegression()\n",
    "scores = cross_val_score(rfc, X, y_arr, cv=10, scoring='accuracy')\n",
    "scores"
   ]
  },
  {
   "cell_type": "code",
   "execution_count": null,
   "metadata": {
    "collapsed": true
   },
   "outputs": [],
   "source": [
    "k_range = list(range(1, 61))\n",
    "k_scores = []\n",
    "for k in k_range:\n",
    "    knn = KNeighborsClassifier(n_neighbors=k)\n",
    "    scores = cross_val_score(knn, X, y_arr, cv=10, scoring='accuracy')\n",
    "    k_scores.append(scores.mean())\n",
    "plt.plot(k_range, k_scores)"
   ]
  },
  {
   "cell_type": "code",
   "execution_count": 1,
   "metadata": {
    "collapsed": true
   },
   "outputs": [],
   "source": [
    "def getPrediction(match_id):\n",
    "    '''Returns the prediction for the given match\n",
    "    \n",
    "    Args: match_id (int): Match ID for the required game\n",
    "    \n",
    "    Returns: String: Predicted winner of the game and probability of victory \n",
    "    '''\n",
    "    results = {}\n",
    "    match_row = matches.loc[matches['id'] == match_id]\n",
    "    team1name = match_row.team1.unique()[0]\n",
    "    team2name = match_row.team2.unique()[0]\n",
    "    toPredict = X_timetest.loc[X_timetest.index == match_id-1].values\n",
    "    prediction_prob = knn1.predict_proba(toPredict)\n",
    "    prediction = knn1.predict(toPredict)\n",
    "    if prediction[0] > 0:\n",
    "        results['name'] = str(team1name)\n",
    "        results['prob'] = float(prediction_prob[0][1])*100\n",
    "    else:\n",
    "        results['name'] = str(team2name)\n",
    "        results['prob'] = float(prediction_prob[0][0])*100\n",
    "    return results"
   ]
  },
  {
   "cell_type": "code",
   "execution_count": null,
   "metadata": {
    "collapsed": true
   },
   "outputs": [],
   "source": []
  }
 ],
 "metadata": {
  "kernelspec": {
   "display_name": "Python 2",
   "language": "python",
   "name": "python2"
  },
  "language_info": {
   "codemirror_mode": {
    "name": "ipython",
    "version": 2
   },
   "file_extension": ".py",
   "mimetype": "text/x-python",
   "name": "python",
   "nbconvert_exporter": "python",
   "pygments_lexer": "ipython2",
   "version": "2.7.13"
  }
 },
 "nbformat": 4,
 "nbformat_minor": 2
}
