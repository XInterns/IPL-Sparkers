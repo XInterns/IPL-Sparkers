{
 "cells": [
  {
   "cell_type": "markdown",
   "metadata": {},
   "source": [
    "# Predicting the Outcome of Cricket Matches"
   ]
  },
  {
   "cell_type": "code",
   "execution_count": 1,
   "metadata": {
    "collapsed": false
   },
   "outputs": [],
   "source": [
    "%matplotlib inline \n",
    "import numpy as np # imports a fast numerical programming library\n",
    "import pandas as pd #lets us handle data as dataframes\n",
    "#sets up pandas table display\n",
    "pd.set_option('display.width', 500)\n",
    "pd.set_option('display.max_columns', 100)\n",
    "pd.set_option('display.notebook_repr_html', True)\n",
    "from sklearn.neighbors import KNeighborsClassifier\n",
    "from sklearn import metrics\n",
    "from patsy import dmatrices"
   ]
  },
  {
   "cell_type": "code",
   "execution_count": 2,
   "metadata": {
    "collapsed": false,
    "scrolled": true
   },
   "outputs": [],
   "source": [
    "matches = pd.read_csv(\"../data/matcheswithfeatures.csv\", index_col = 0)"
   ]
  },
  {
   "cell_type": "code",
   "execution_count": 3,
   "metadata": {
    "collapsed": false
   },
   "outputs": [],
   "source": [
    "y, X = dmatrices('team1Winning ~ 0 + Avg_SR_Difference + Avg_WPR_Difference + Total_MVP_Difference + Prev_Enc_Team1_WinPerc + \\\n",
    "                  Total_RF_Difference', matches, return_type=\"dataframe\")\n",
    "y_arr = np.ravel(y)"
   ]
  },
  {
   "cell_type": "markdown",
   "metadata": {},
   "source": [
    "### Splitting Training Set (2008-2013) and Test Set (2013-2015) based on Seasons"
   ]
  },
  {
   "cell_type": "code",
   "execution_count": 4,
   "metadata": {
    "collapsed": true
   },
   "outputs": [],
   "source": [
    "X_timetrain = X.loc[X.index < 398]\n",
    "Y_timetrain = y.loc[y.index < 398]\n",
    "Y_timetrain_arr = np.ravel(Y_timetrain)\n",
    "X_timetest = X.loc[X.index >= 398]\n",
    "Y_timetest = y.loc[y.index >= 398]\n",
    "Y_timetest_arr = np.ravel(Y_timetest)"
   ]
  },
  {
   "cell_type": "code",
   "execution_count": 5,
   "metadata": {
    "collapsed": false
   },
   "outputs": [
    {
     "name": "stdout",
     "output_type": "stream",
     "text": [
      "Accuracy is  64.367816092 %\n"
     ]
    }
   ],
   "source": [
    "# Best values of k in time-based split data\n",
    "knn1 = KNeighborsClassifier(n_neighbors = 31)\n",
    "knn1.fit(X_timetrain, Y_timetrain_arr)\n",
    "y_pred = knn1.predict(X_timetest)\n",
    "print \"Accuracy is \", metrics.accuracy_score(Y_timetest_arr, y_pred)*100, \"%\""
   ]
  },
  {
   "cell_type": "code",
   "execution_count": 6,
   "metadata": {
    "collapsed": true
   },
   "outputs": [],
   "source": [
    "def getPrediction(match_id):\n",
    "    '''Returns the prediction for the given match\n",
    "    \n",
    "    Args: match_id (int): Match ID for the required game\n",
    "    \n",
    "    Returns: String: Predicted winner of the game and probability of victory \n",
    "    '''\n",
    "    results = {}\n",
    "    match_row = matches.loc[matches['id'] == match_id]\n",
    "    team1name = match_row.team1.unique()[0]\n",
    "    team2name = match_row.team2.unique()[0]\n",
    "    toPredict = X_timetest.loc[X_timetest.index == match_id-1].values\n",
    "    prediction_prob = knn1.predict_proba(toPredict)\n",
    "    prediction = knn1.predict(toPredict)\n",
    "    if prediction[0] > 0:\n",
    "        results['name'] = str(team1name)\n",
    "        results['prob'] = float(prediction_prob[0][1])*100\n",
    "    else:\n",
    "        results['name'] = str(team2name)\n",
    "        results['prob'] = float(prediction_prob[0][0])*100\n",
    "    return results"
   ]
  }
 ],
 "metadata": {
  "kernelspec": {
   "display_name": "Python 2",
   "language": "python",
   "name": "python2"
  },
  "language_info": {
   "codemirror_mode": {
    "name": "ipython",
    "version": 2
   },
   "file_extension": ".py",
   "mimetype": "text/x-python",
   "name": "python",
   "nbconvert_exporter": "python",
   "pygments_lexer": "ipython2",
   "version": "2.7.13"
  }
 },
 "nbformat": 4,
 "nbformat_minor": 2
}
